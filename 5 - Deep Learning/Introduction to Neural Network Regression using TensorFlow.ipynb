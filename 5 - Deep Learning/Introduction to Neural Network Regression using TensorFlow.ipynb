{
  "cells": [
    {
      "cell_type": "markdown",
      "metadata": {
        "id": "view-in-github",
        "colab_type": "text"
      },
      "source": [
        "<a href=\"https://colab.research.google.com/github/SophrosyneEunoia/Notes/blob/main/5%20-%20Deep%20Learning/Introduction%20to%20Neural%20Network%20Regression%20using%20TensorFlow.ipynb\" target=\"_parent\"><img src=\"https://colab.research.google.com/assets/colab-badge.svg\" alt=\"Open In Colab\"/></a>"
      ]
    },
    {
      "cell_type": "code",
      "execution_count": 1,
      "metadata": {
        "colab": {
          "base_uri": "https://localhost:8080/"
        },
        "id": "bSSLXG9OgZo4",
        "outputId": "08ab142b-8b39-4c5b-8f4a-4d684a55eae3"
      },
      "outputs": [
        {
          "output_type": "stream",
          "name": "stdout",
          "text": [
            "2.8.0\n"
          ]
        }
      ],
      "source": [
        "import tensorflow as tf\n",
        "\n",
        "print(tf.__version__)"
      ]
    },
    {
      "cell_type": "code",
      "execution_count": 2,
      "metadata": {
        "colab": {
          "base_uri": "https://localhost:8080/"
        },
        "id": "4O_tmLTQiW75",
        "outputId": "00d035a4-51f2-45dc-a2c3-bbf7d2523be5"
      },
      "outputs": [
        {
          "output_type": "stream",
          "name": "stdout",
          "text": [
            "[-7. -4. -1.  2.  5.  8. 11. 14.]\n",
            "[ 3  6  9 12 15 18 21 24]\n"
          ]
        }
      ],
      "source": [
        "import numpy as np\n",
        "import matplotlib.pyplot as plt\n",
        "\n",
        "X = np.array([-7.0, -4.0, -1.0, 2.0, 5.0, 8.0, 11.0, 14.0])\n",
        "y = np.arange(3,27,3)\n",
        "\n",
        "print(X)\n",
        "print(y)"
      ]
    },
    {
      "cell_type": "code",
      "execution_count": 3,
      "metadata": {
        "colab": {
          "base_uri": "https://localhost:8080/",
          "height": 268
        },
        "id": "FdjtxsYwkEze",
        "outputId": "72e8637b-a92f-4a97-ab44-117c81159103"
      },
      "outputs": [
        {
          "output_type": "display_data",
          "data": {
            "text/plain": [
              "<Figure size 432x288 with 1 Axes>"
            ],
            "image/png": "[encoded data removed]"
          },
          "metadata": {
            "needs_background": "light"
          }
        }
      ],
      "source": [
        "plt.scatter(X,y)\n",
        "plt.show()"
      ]
    },
    {
      "cell_type": "code",
      "execution_count": 4,
      "metadata": {
        "colab": {
          "base_uri": "https://localhost:8080/"
        },
        "id": "Jq5vPiVSkqbh",
        "outputId": "d4705cd7-f3a0-40f8-fabe-89d5e74675c1"
      },
      "outputs": [
        {
          "output_type": "execute_result",
          "data": {
            "text/plain": [
              "array([ True,  True,  True,  True,  True,  True,  True,  True])"
            ]
          },
          "metadata": {},
          "execution_count": 4
        }
      ],
      "source": [
        "y == X + 10"
      ]
    },
    {
      "cell_type": "markdown",
      "source": [
        "### First Regression Model"
      ],
      "metadata": {
        "id": "n6tjadQW-juc"
      }
    },
    {
      "cell_type": "code",
      "execution_count": 5,
      "metadata": {
        "id": "AO3Y8likuJ4k"
      },
      "outputs": [],
      "source": [
        "# Create features (using tensors)\n",
        "feature = tf.constant([-7.0, -4.0, -1.0, 2.0, 5.0, 8.0, 11.0, 14.0])\n",
        "\n",
        "# Create labels (using tensors)\n",
        "labels = tf.constant([3.0, 6.0, 9.0, 12.0, 15.0, 18.0, 21.0, 24.0])"
      ]
    },
    {
      "cell_type": "code",
      "execution_count": 6,
      "metadata": {
        "id": "qmcF6mY0ySjB",
        "outputId": "4e5ed49b-d51b-47f9-8fb0-41de0fa52dfa",
        "colab": {
          "base_uri": "https://localhost:8080/"
        }
      },
      "outputs": [
        {
          "output_type": "stream",
          "name": "stdout",
          "text": [
            "Epoch 1/5\n",
            "Input 0 of layer 'dense' is incompatible with the layer: expected min_ndim=2, found ndim=1. Full shape received: (None,)\n"
          ]
        }
      ],
      "source": [
        "# Create a model using the Sequential API\n",
        "model = tf.keras.Sequential()\n",
        "model.add(tf.keras.layers.Dense(1))\n",
        "\n",
        "# Compile the model\n",
        "model.compile(loss=tf.keras.losses.mae, # mae is short for mean absolute error\n",
        "              optimizer=tf.keras.optimizers.SGD(), # SGD is short for stochastic gradient descent\n",
        "              metrics=[\"mae\"])\n",
        "\n",
        "# Model Fitting - Error For Development\n",
        "try:\n",
        "  model.fit(feature, labels, epochs=5)\n",
        "except:\n",
        "  print(\"Input 0 of layer 'dense' is incompatible with the layer: expected min_ndim=2, found ndim=1. Full shape received: (None,)\")"
      ]
    },
    {
      "cell_type": "code",
      "source": [
        "X_exp = tf.expand_dims(feature, axis=-1)\n",
        "\n",
        "print(feature.shape)\n",
        "print(X_exp.shape)"
      ],
      "metadata": {
        "colab": {
          "base_uri": "https://localhost:8080/"
        },
        "id": "e7vRGCHb4-C2",
        "outputId": "d1b5539a-60ac-433e-f499-11fa14edfd53"
      },
      "execution_count": 7,
      "outputs": [
        {
          "output_type": "stream",
          "name": "stdout",
          "text": [
            "(8,)\n",
            "(8, 1)\n"
          ]
        }
      ]
    },
    {
      "cell_type": "code",
      "source": [
        "# Create a model using the Sequential API\n",
        "model = tf.keras.Sequential()\n",
        "model.add(tf.keras.layers.Dense(1))\n",
        "\n",
        "# Compile the model\n",
        "model.compile(loss=tf.keras.losses.mae, # mae is short for mean absolute error\n",
        "              optimizer=tf.keras.optimizers.SGD(), # SGD is short for stochastic gradient descent\n",
        "              metrics=[\"mae\"])\n",
        "\n",
        "# Model Fitting - Error For Development\n",
        "try:\n",
        "  model.fit(X_exp, labels, epochs=5)\n",
        "except:\n",
        "  print(\"Input 0 of layer 'dense' is incompatible with the layer: expected min_ndim=2, found ndim=1. Full shape received: (None,)\")"
      ],
      "metadata": {
        "colab": {
          "base_uri": "https://localhost:8080/"
        },
        "id": "EgHgXxYR7ImJ",
        "outputId": "2ce9faf8-5481-4e9c-f6c8-cfcdb2839ab0"
      },
      "execution_count": 8,
      "outputs": [
        {
          "output_type": "stream",
          "name": "stdout",
          "text": [
            "Epoch 1/5\n",
            "1/1 [==============================] - 0s 448ms/step - loss: 12.6773 - mae: 12.6773\n",
            "Epoch 2/5\n",
            "1/1 [==============================] - 0s 10ms/step - loss: 12.5448 - mae: 12.5448\n",
            "Epoch 3/5\n",
            "1/1 [==============================] - 0s 9ms/step - loss: 12.4123 - mae: 12.4123\n",
            "Epoch 4/5\n",
            "1/1 [==============================] - 0s 7ms/step - loss: 12.2798 - mae: 12.2798\n",
            "Epoch 5/5\n",
            "1/1 [==============================] - 0s 17ms/step - loss: 12.1473 - mae: 12.1473\n"
          ]
        }
      ]
    },
    {
      "cell_type": "code",
      "source": [
        "model.predict([17.0]) # should be near at 27"
      ],
      "metadata": {
        "id": "p9JLdzME9d9V",
        "outputId": "606d81c6-3210-4978-9b37-b72993dabec2",
        "colab": {
          "base_uri": "https://localhost:8080/"
        }
      },
      "execution_count": 9,
      "outputs": [
        {
          "output_type": "execute_result",
          "data": {
            "text/plain": [
              "array([[7.020983]], dtype=float32)"
            ]
          },
          "metadata": {},
          "execution_count": 9
        }
      ]
    },
    {
      "cell_type": "code",
      "source": [
        "# Create a model using the Sequential API\n",
        "model = tf.keras.Sequential()\n",
        "model.add(tf.keras.layers.Dense(1))\n",
        "\n",
        "# Compile the model\n",
        "model.compile(loss=tf.keras.losses.mae, # mae is short for mean absolute error\n",
        "              optimizer=tf.keras.optimizers.SGD(), # SGD is short for stochastic gradient descent\n",
        "              metrics=[\"mae\"])\n",
        "\n",
        "# Model Fitting\n",
        "model.fit(X_exp, labels, epochs=70)"
      ],
      "metadata": {
        "id": "3WlTZz3O_R2i",
        "outputId": "5994e6f6-1093-4c05-f4dc-b8f2127af275",
        "colab": {
          "base_uri": "https://localhost:8080/"
        }
      },
      "execution_count": 10,
      "outputs": [
        {
          "output_type": "stream",
          "name": "stdout",
          "text": [
            "Epoch 1/70\n",
            "1/1 [==============================] - 1s 549ms/step - loss: 21.5503 - mae: 21.5503\n",
            "Epoch 2/70\n",
            "1/1 [==============================] - 0s 21ms/step - loss: 21.1572 - mae: 21.1572\n",
            "Epoch 3/70\n",
            "1/1 [==============================] - 0s 18ms/step - loss: 20.7641 - mae: 20.7641\n",
            "Epoch 4/70\n",
            "1/1 [==============================] - 0s 31ms/step - loss: 20.4067 - mae: 20.4067\n",
            "Epoch 5/70\n",
            "1/1 [==============================] - 0s 20ms/step - loss: 20.1254 - mae: 20.1254\n",
            "Epoch 6/70\n",
            "1/1 [==============================] - 0s 20ms/step - loss: 19.8442 - mae: 19.8442\n",
            "Epoch 7/70\n",
            "1/1 [==============================] - 0s 18ms/step - loss: 19.5629 - mae: 19.5629\n",
            "Epoch 8/70\n",
            "1/1 [==============================] - 0s 17ms/step - loss: 19.2817 - mae: 19.2817\n",
            "Epoch 9/70\n",
            "1/1 [==============================] - 0s 25ms/step - loss: 19.0004 - mae: 19.0004\n",
            "Epoch 10/70\n",
            "1/1 [==============================] - 0s 18ms/step - loss: 18.7192 - mae: 18.7192\n",
            "Epoch 11/70\n",
            "1/1 [==============================] - 0s 15ms/step - loss: 18.4379 - mae: 18.4379\n",
            "Epoch 12/70\n",
            "1/1 [==============================] - 0s 22ms/step - loss: 18.1567 - mae: 18.1567\n",
            "Epoch 13/70\n",
            "1/1 [==============================] - 0s 16ms/step - loss: 17.8754 - mae: 17.8754\n",
            "Epoch 14/70\n",
            "1/1 [==============================] - 0s 22ms/step - loss: 17.5942 - mae: 17.5942\n",
            "Epoch 15/70\n",
            "1/1 [==============================] - 0s 16ms/step - loss: 17.3129 - mae: 17.3129\n",
            "Epoch 16/70\n",
            "1/1 [==============================] - 0s 16ms/step - loss: 17.0317 - mae: 17.0317\n",
            "Epoch 17/70\n",
            "1/1 [==============================] - 0s 16ms/step - loss: 16.7504 - mae: 16.7504\n",
            "Epoch 18/70\n",
            "1/1 [==============================] - 0s 31ms/step - loss: 16.4692 - mae: 16.4692\n",
            "Epoch 19/70\n",
            "1/1 [==============================] - 0s 14ms/step - loss: 16.1879 - mae: 16.1879\n",
            "Epoch 20/70\n",
            "1/1 [==============================] - 0s 7ms/step - loss: 15.9067 - mae: 15.9067\n",
            "Epoch 21/70\n",
            "1/1 [==============================] - 0s 16ms/step - loss: 15.6254 - mae: 15.6254\n",
            "Epoch 22/70\n",
            "1/1 [==============================] - 0s 13ms/step - loss: 15.3441 - mae: 15.3441\n",
            "Epoch 23/70\n",
            "1/1 [==============================] - 0s 13ms/step - loss: 15.0629 - mae: 15.0629\n",
            "Epoch 24/70\n",
            "1/1 [==============================] - 0s 26ms/step - loss: 14.7816 - mae: 14.7816\n",
            "Epoch 25/70\n",
            "1/1 [==============================] - 0s 13ms/step - loss: 14.5807 - mae: 14.5807\n",
            "Epoch 26/70\n",
            "1/1 [==============================] - 0s 22ms/step - loss: 14.4482 - mae: 14.4482\n",
            "Epoch 27/70\n",
            "1/1 [==============================] - 0s 11ms/step - loss: 14.3157 - mae: 14.3157\n",
            "Epoch 28/70\n",
            "1/1 [==============================] - 0s 21ms/step - loss: 14.1832 - mae: 14.1832\n",
            "Epoch 29/70\n",
            "1/1 [==============================] - 0s 23ms/step - loss: 14.0507 - mae: 14.0507\n",
            "Epoch 30/70\n",
            "1/1 [==============================] - 0s 20ms/step - loss: 13.9182 - mae: 13.9182\n",
            "Epoch 31/70\n",
            "1/1 [==============================] - 0s 7ms/step - loss: 13.7857 - mae: 13.7857\n",
            "Epoch 32/70\n",
            "1/1 [==============================] - 0s 7ms/step - loss: 13.6532 - mae: 13.6532\n",
            "Epoch 33/70\n",
            "1/1 [==============================] - 0s 7ms/step - loss: 13.5207 - mae: 13.5207\n",
            "Epoch 34/70\n",
            "1/1 [==============================] - 0s 7ms/step - loss: 13.3882 - mae: 13.3882\n",
            "Epoch 35/70\n",
            "1/1 [==============================] - 0s 7ms/step - loss: 13.2557 - mae: 13.2557\n",
            "Epoch 36/70\n",
            "1/1 [==============================] - 0s 18ms/step - loss: 13.1232 - mae: 13.1232\n",
            "Epoch 37/70\n",
            "1/1 [==============================] - 0s 19ms/step - loss: 12.9907 - mae: 12.9907\n",
            "Epoch 38/70\n",
            "1/1 [==============================] - 0s 17ms/step - loss: 12.8582 - mae: 12.8582\n",
            "Epoch 39/70\n",
            "1/1 [==============================] - 0s 16ms/step - loss: 12.7257 - mae: 12.7257\n",
            "Epoch 40/70\n",
            "1/1 [==============================] - 0s 7ms/step - loss: 12.5932 - mae: 12.5932\n",
            "Epoch 41/70\n",
            "1/1 [==============================] - 0s 15ms/step - loss: 12.4607 - mae: 12.4607\n",
            "Epoch 42/70\n",
            "1/1 [==============================] - 0s 15ms/step - loss: 12.3282 - mae: 12.3282\n",
            "Epoch 43/70\n",
            "1/1 [==============================] - 0s 11ms/step - loss: 12.1957 - mae: 12.1957\n",
            "Epoch 44/70\n",
            "1/1 [==============================] - 0s 14ms/step - loss: 12.0632 - mae: 12.0632\n",
            "Epoch 45/70\n",
            "1/1 [==============================] - 0s 14ms/step - loss: 11.9307 - mae: 11.9307\n",
            "Epoch 46/70\n",
            "1/1 [==============================] - 0s 27ms/step - loss: 11.7982 - mae: 11.7982\n",
            "Epoch 47/70\n",
            "1/1 [==============================] - 0s 11ms/step - loss: 11.6657 - mae: 11.6657\n",
            "Epoch 48/70\n",
            "1/1 [==============================] - 0s 12ms/step - loss: 11.5332 - mae: 11.5332\n",
            "Epoch 49/70\n",
            "1/1 [==============================] - 0s 13ms/step - loss: 11.4007 - mae: 11.4007\n",
            "Epoch 50/70\n",
            "1/1 [==============================] - 0s 14ms/step - loss: 11.2682 - mae: 11.2682\n",
            "Epoch 51/70\n",
            "1/1 [==============================] - 0s 15ms/step - loss: 11.1357 - mae: 11.1357\n",
            "Epoch 52/70\n",
            "1/1 [==============================] - 0s 16ms/step - loss: 11.0032 - mae: 11.0032\n",
            "Epoch 53/70\n",
            "1/1 [==============================] - 0s 12ms/step - loss: 10.8707 - mae: 10.8707\n",
            "Epoch 54/70\n",
            "1/1 [==============================] - 0s 13ms/step - loss: 10.7382 - mae: 10.7382\n",
            "Epoch 55/70\n",
            "1/1 [==============================] - 0s 16ms/step - loss: 10.6057 - mae: 10.6057\n",
            "Epoch 56/70\n",
            "1/1 [==============================] - 0s 15ms/step - loss: 10.4732 - mae: 10.4732\n",
            "Epoch 57/70\n",
            "1/1 [==============================] - 0s 21ms/step - loss: 10.3407 - mae: 10.3407\n",
            "Epoch 58/70\n",
            "1/1 [==============================] - 0s 25ms/step - loss: 10.2082 - mae: 10.2082\n",
            "Epoch 59/70\n",
            "1/1 [==============================] - 0s 15ms/step - loss: 10.0757 - mae: 10.0757\n",
            "Epoch 60/70\n",
            "1/1 [==============================] - 0s 15ms/step - loss: 9.9432 - mae: 9.9432\n",
            "Epoch 61/70\n",
            "1/1 [==============================] - 0s 15ms/step - loss: 9.8107 - mae: 9.8107\n",
            "Epoch 62/70\n",
            "1/1 [==============================] - 0s 18ms/step - loss: 9.6782 - mae: 9.6782\n",
            "Epoch 63/70\n",
            "1/1 [==============================] - 0s 15ms/step - loss: 9.5457 - mae: 9.5457\n",
            "Epoch 64/70\n",
            "1/1 [==============================] - 0s 15ms/step - loss: 9.4132 - mae: 9.4132\n",
            "Epoch 65/70\n",
            "1/1 [==============================] - 0s 15ms/step - loss: 9.2807 - mae: 9.2807\n",
            "Epoch 66/70\n",
            "1/1 [==============================] - 0s 16ms/step - loss: 9.1482 - mae: 9.1482\n",
            "Epoch 67/70\n",
            "1/1 [==============================] - 0s 12ms/step - loss: 9.0157 - mae: 9.0157\n",
            "Epoch 68/70\n",
            "1/1 [==============================] - 0s 20ms/step - loss: 8.8832 - mae: 8.8832\n",
            "Epoch 69/70\n",
            "1/1 [==============================] - 0s 12ms/step - loss: 8.7507 - mae: 8.7507\n",
            "Epoch 70/70\n",
            "1/1 [==============================] - 0s 14ms/step - loss: 8.6182 - mae: 8.6182\n"
          ]
        },
        {
          "output_type": "execute_result",
          "data": {
            "text/plain": [
              "<keras.callbacks.History at 0x7ff8dec10950>"
            ]
          },
          "metadata": {},
          "execution_count": 10
        }
      ]
    },
    {
      "cell_type": "code",
      "source": [
        "model.predict([17.0]) # should be near at 27"
      ],
      "metadata": {
        "id": "VM9-IUqX_dG3",
        "outputId": "664eba48-94ee-42f5-e2ab-dc486802bb2e",
        "colab": {
          "base_uri": "https://localhost:8080/"
        }
      },
      "execution_count": 11,
      "outputs": [
        {
          "output_type": "execute_result",
          "data": {
            "text/plain": [
              "array([[21.915611]], dtype=float32)"
            ]
          },
          "metadata": {},
          "execution_count": 11
        }
      ]
    },
    {
      "cell_type": "markdown",
      "source": [
        "### Second Model"
      ],
      "metadata": {
        "id": "i_SZEOHl-6E8"
      }
    },
    {
      "cell_type": "code",
      "source": [
        "import numpy as np\n",
        "\n",
        "# y = x + 10\n",
        "X = np.arange(-100, 100, 4)\n",
        "y = np.arange(-90, 110, 4)"
      ],
      "metadata": {
        "id": "-8fHkYNY_Jf1"
      },
      "execution_count": 12,
      "outputs": []
    },
    {
      "cell_type": "code",
      "source": [
        "# first 40 examples (80% of data)\n",
        "X_train = X[:40]\n",
        "y_train = y[:40]\n",
        "\n",
        "# last 10 examples (20% of data)\n",
        "X_test = X[40:]\n",
        "y_test = y[40:]"
      ],
      "metadata": {
        "id": "DBVh2mwx_aM6"
      },
      "execution_count": 13,
      "outputs": []
    },
    {
      "cell_type": "code",
      "source": [
        "import matplotlib.pyplot as plt\n",
        "\n",
        "plt.figure(figsize=(10, 7))\n",
        "# Plot training data in blue\n",
        "plt.scatter(X_train, y_train, c='b', label='Training data')\n",
        "# Plot test data in green\n",
        "plt.scatter(X_test, y_test, c='g', label='Testing data')\n",
        "# Show the legend\n",
        "plt.legend();"
      ],
      "metadata": {
        "id": "eVClznC4_rDH",
        "outputId": "2d7400a2-ff0a-4a72-b93a-6110b81b034d",
        "colab": {
          "base_uri": "https://localhost:8080/",
          "height": 427
        }
      },
      "execution_count": 14,
      "outputs": [
        {
          "output_type": "display_data",
          "data": {
            "text/plain": [
              "<Figure size 720x504 with 1 Axes>"
            ],
            "image/png": "[encoded data removed]"
          },
          "metadata": {
            "needs_background": "light"
          }
        }
      ]
    },
    {
      "cell_type": "code",
      "source": [
        "model = tf.keras.Sequential()\n",
        "model.add(tf.keras.layers.Dense(1))\n",
        "\n",
        "model.compile(loss=tf.keras.losses.mae,\n",
        "              optimizer=tf.keras.optimizers.SGD(),\n",
        "              metrics=[\"mae\"])\n",
        "\n",
        "try:\n",
        "  model.summary()\n",
        "except:\n",
        "  print(\"ValueError: This model has not yet been built. Build the model first by calling `build()` or by calling the model on a batch of data.\")"
      ],
      "metadata": {
        "id": "8ZlG9O8eA5mO",
        "outputId": "b54cf140-e541-4d0e-cb43-72b744579f6b",
        "colab": {
          "base_uri": "https://localhost:8080/"
        }
      },
      "execution_count": 15,
      "outputs": [
        {
          "output_type": "stream",
          "name": "stdout",
          "text": [
            "ValueError: This model has not yet been built. Build the model first by calling `build()` or by calling the model on a batch of data.\n"
          ]
        }
      ]
    },
    {
      "cell_type": "markdown",
      "source": [
        "We also haven't told it what input shape it should be expecting.\n",
        "\n",
        "Remember above, how we discussed the input shape was just one number?\n",
        "\n",
        "We can let our model know the input shape of our data using the input_shape parameter to the first layer (usually if input_shape isn't defined, Keras tries to figure it out automatically)."
      ],
      "metadata": {
        "id": "4LLocWBvBfQ8"
      }
    },
    {
      "cell_type": "code",
      "source": [
        "model = tf.keras.Sequential()\n",
        "model.add(tf.keras.layers.Dense(1, input_shape=[1]))\n",
        "\n",
        "model.compile(\n",
        "    loss=tf.keras.losses.mae,\n",
        "    optimizer=tf.keras.optimizers.SGD(),\n",
        "    metrics=['mae']\n",
        ")\n",
        "\n",
        "model.summary()\n",
        "\n",
        "# Param # -> Weight + Bias\n",
        "# Weight is connection between n-1 layers * n layers\n",
        "# In this case, we only have 1 and 1 layers, so -> 1 * 1 = 1\n",
        "# The bias is from the n-node, we have 1 node, so, 1 bias\n",
        "# 1 (Weight) + 1 (Bias) = 2"
      ],
      "metadata": {
        "id": "FmQBcnQ6BTz8",
        "outputId": "c91f69e8-5e84-4704-ef4e-2eb576d46414",
        "colab": {
          "base_uri": "https://localhost:8080/"
        }
      },
      "execution_count": 16,
      "outputs": [
        {
          "output_type": "stream",
          "name": "stdout",
          "text": [
            "Model: \"sequential_4\"\n",
            "_________________________________________________________________\n",
            " Layer (type)                Output Shape              Param #   \n",
            "=================================================================\n",
            " dense_4 (Dense)             (None, 1)                 2         \n",
            "                                                                 \n",
            "=================================================================\n",
            "Total params: 2\n",
            "Trainable params: 2\n",
            "Non-trainable params: 0\n",
            "_________________________________________________________________\n"
          ]
        }
      ]
    },
    {
      "cell_type": "code",
      "source": [
        "model.get_weights()"
      ],
      "metadata": {
        "id": "Gx_bwnkJL2VL",
        "outputId": "78146a61-2be9-4f40-e13c-c101c46c8367",
        "colab": {
          "base_uri": "https://localhost:8080/"
        }
      },
      "execution_count": 17,
      "outputs": [
        {
          "output_type": "execute_result",
          "data": {
            "text/plain": [
              "[array([[0.46663916]], dtype=float32), array([0.], dtype=float32)]"
            ]
          },
          "metadata": {},
          "execution_count": 17
        }
      ]
    },
    {
      "cell_type": "markdown",
      "source": [
        "Calling summary() on our model shows us the layers it contains, the output shape and the number of parameters.\n",
        "\n",
        "Total params - total number of parameters in the model.<br>\n",
        "Trainable parameters - these are the parameters (patterns) the model can update as it trains.<br>\n",
        "Non-trainable parameters - these parameters aren't updated during training (this is typical when you bring in the already learned patterns from other models during transfer learning)."
      ],
      "metadata": {
        "id": "1_raTS55CU0w"
      }
    },
    {
      "cell_type": "code",
      "source": [
        "from tensorflow.keras.utils import plot_model\n",
        "\n",
        "plot_model(model, show_shapes=True)"
      ],
      "metadata": {
        "id": "O2aEVh2krGhx",
        "outputId": "74e19bb3-0578-4238-935f-5f434d49af24",
        "colab": {
          "base_uri": "https://localhost:8080/",
          "height": 201
        }
      },
      "execution_count": 18,
      "outputs": [
        {
          "output_type": "execute_result",
          "data": {
            "text/plain": [
              "<IPython.core.display.Image object>"
            ],
            "image/png": "[encoded data removed]"
          },
          "metadata": {},
          "execution_count": 18
        }
      ]
    },
    {
      "cell_type": "code",
      "source": [
        "# Save a model\n",
        "model.save('model_regresi')"
      ],
      "metadata": {
        "id": "M0ghBSpbyVl3",
        "outputId": "252b3c29-bcac-4b57-a6c2-8eb075d816db",
        "colab": {
          "base_uri": "https://localhost:8080/"
        }
      },
      "execution_count": 19,
      "outputs": [
        {
          "output_type": "stream",
          "name": "stdout",
          "text": [
            "INFO:tensorflow:Assets written to: model_regresi/assets\n"
          ]
        }
      ]
    },
    {
      "cell_type": "code",
      "source": [
        "!ls model_regresi"
      ],
      "metadata": {
        "id": "1Py8Cf5eylYr",
        "outputId": "fccca276-5603-4a08-a38b-cd7d0467baa5",
        "colab": {
          "base_uri": "https://localhost:8080/"
        }
      },
      "execution_count": 20,
      "outputs": [
        {
          "output_type": "stream",
          "name": "stdout",
          "text": [
            "assets\tkeras_metadata.pb  saved_model.pb  variables\n"
          ]
        }
      ]
    },
    {
      "cell_type": "code",
      "source": [
        "# Load a model\n",
        "loaded_model = tf.keras.models.load_model('model_regresi')"
      ],
      "metadata": {
        "id": "9GIvEzFkyvtu"
      },
      "execution_count": 21,
      "outputs": []
    }
  ],
  "metadata": {
    "colab": {
      "name": "Introduction to Neural Network Regression using TensorFlow.ipynb",
      "provenance": [],
      "include_colab_link": true
    },
    "kernelspec": {
      "display_name": "Python 3 (ipykernel)",
      "language": "python",
      "name": "python3"
    },
    "language_info": {
      "codemirror_mode": {
        "name": "ipython",
        "version": 3
      },
      "file_extension": ".py",
      "mimetype": "text/x-python",
      "name": "python",
      "nbconvert_exporter": "python",
      "pygments_lexer": "ipython3",
      "version": "3.9.7"
    }
  },
  "nbformat": 4,
  "nbformat_minor": 0
}