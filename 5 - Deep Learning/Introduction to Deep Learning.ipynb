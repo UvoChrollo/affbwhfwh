{
 "cells": [
  {
   "cell_type": "markdown",
   "metadata": {
    "id": "vGE9xBAPpCLk"
   },
   "source": [
    "### 1 - Basics of deep learning and neural networks"
   ]
  },
  {
   "cell_type": "markdown",
   "metadata": {},
   "source": [
    "**First two chapters focus on conceptual knowledge**\n",
    "  1. Debug an tune deep learning model on conventional prediction problems\n",
    "  2. Lay the foundations for progressing towards modern applications"
   ]
  },
  {
   "cell_type": "markdown",
   "metadata": {},
   "source": [
    "***Forward Propagation Algorithm***"
   ]
  },
  {
   "cell_type": "markdown",
   "metadata": {},
   "source": [
    "Forward Propagation will pass our input through the network to every node in next layers to make a prediction in the output<br>\n",
    "Lines connect the input to the next layers has a weight, that ***indicate how strongly the input effect hidden node***<br>\n",
    "How the node get the value or the data ? it's get from input value * weight"
   ]
  },
  {
   "cell_type": "code",
   "execution_count": 1,
   "metadata": {},
   "outputs": [
    {
     "name": "stdout",
     "output_type": "stream",
     "text": [
      "Node 0 : 5 Node 1 : 1\n"
     ]
    }
   ],
   "source": [
    "import numpy as np\n",
    "\n",
    "# Input\n",
    "\n",
    "input_data = np.array([2,3])\n",
    "\n",
    "weights = {\n",
    "    'node_0' : np.array([1,1]),\n",
    "    'node_1' : np.array([-1, 1]),\n",
    "    'output' : np.array([2,-1])\n",
    "}\n",
    "\n",
    "# Process\n",
    "node_0 = (input_data * weights['node_0']).sum()\n",
    "node_1 = (input_data * weights['node_1']).sum()\n",
    "\n",
    "print(\"Node 0 : {} Node 1 : {}\".format(node_0, node_1))"
   ]
  },
  {
   "cell_type": "code",
   "execution_count": 2,
   "metadata": {},
   "outputs": [
    {
     "name": "stdout",
     "output_type": "stream",
     "text": [
      "9\n"
     ]
    }
   ],
   "source": [
    "hidden_layer_value = np.array([node_0, node_1])\n",
    "\n",
    "output = (hidden_layer_value * weights['output']).sum()\n",
    "\n",
    "print(output)"
   ]
  },
  {
   "cell_type": "code",
   "execution_count": 1,
   "metadata": {},
   "outputs": [
    {
     "ename": "NameError",
     "evalue": "name 'np' is not defined",
     "output_type": "error",
     "traceback": [
      "\u001b[1;31m---------------------------------------------------------------------------\u001b[0m",
      "\u001b[1;31mNameError\u001b[0m                                 Traceback (most recent call last)",
      "\u001b[1;32m~\\AppData\\Local\\Temp/ipykernel_3772/4256420185.py\u001b[0m in \u001b[0;36m<module>\u001b[1;34m\u001b[0m\n\u001b[1;32m----> 1\u001b[1;33m \u001b[0minput_data\u001b[0m \u001b[1;33m=\u001b[0m \u001b[0mnp\u001b[0m\u001b[1;33m.\u001b[0m\u001b[0marray\u001b[0m\u001b[1;33m(\u001b[0m\u001b[1;33m[\u001b[0m\u001b[1;36m3\u001b[0m\u001b[1;33m,\u001b[0m\u001b[1;36m5\u001b[0m\u001b[1;33m]\u001b[0m\u001b[1;33m)\u001b[0m\u001b[1;33m\u001b[0m\u001b[1;33m\u001b[0m\u001b[0m\n\u001b[0m\u001b[0;32m      2\u001b[0m \u001b[1;33m\u001b[0m\u001b[0m\n\u001b[0;32m      3\u001b[0m weights = {\n\u001b[0;32m      4\u001b[0m     \u001b[1;34m'node_0'\u001b[0m \u001b[1;33m:\u001b[0m \u001b[0mnp\u001b[0m\u001b[1;33m.\u001b[0m\u001b[0marray\u001b[0m\u001b[1;33m(\u001b[0m\u001b[1;33m[\u001b[0m\u001b[1;36m2\u001b[0m\u001b[1;33m,\u001b[0m\u001b[1;36m4\u001b[0m\u001b[1;33m]\u001b[0m\u001b[1;33m)\u001b[0m\u001b[1;33m,\u001b[0m\u001b[1;33m\u001b[0m\u001b[1;33m\u001b[0m\u001b[0m\n\u001b[0;32m      5\u001b[0m     \u001b[1;34m'node_1'\u001b[0m \u001b[1;33m:\u001b[0m \u001b[0mnp\u001b[0m\u001b[1;33m.\u001b[0m\u001b[0marray\u001b[0m\u001b[1;33m(\u001b[0m\u001b[1;33m[\u001b[0m\u001b[1;36m4\u001b[0m\u001b[1;33m,\u001b[0m\u001b[1;33m-\u001b[0m\u001b[1;36m5\u001b[0m\u001b[1;33m]\u001b[0m\u001b[1;33m)\u001b[0m\u001b[1;33m,\u001b[0m\u001b[1;33m\u001b[0m\u001b[1;33m\u001b[0m\u001b[0m\n",
      "\u001b[1;31mNameError\u001b[0m: name 'np' is not defined"
     ]
    }
   ],
   "source": [
    "input_data = np.array([3,5])\n",
    "\n",
    "weights = {\n",
    "    'node_0' : np.array([2,4]),\n",
    "    'node_1' : np.array([4,-5]),\n",
    "    'output' : np.array([2,7])\n",
    "}\n",
    "\n",
    "node_0 = (input_data * weights['node_0']).sum()\n",
    "node_1 = (input_data * weights['node_1']).sum()\n",
    "\n",
    "hidden_layer_value = np.array([node_0, node_1])\n",
    "\n",
    "output = (hidden_layer_value * weights['output']).sum()\n",
    "\n",
    "print(output)"
   ]
  },
  {
   "cell_type": "markdown",
   "metadata": {},
   "source": [
    "***Activation functions***"
   ]
  },
  {
   "cell_type": "code",
   "execution_count": 4,
   "metadata": {},
   "outputs": [],
   "source": [
    "def relu(value):\n",
    "    return max(0, value)\n",
    "\n",
    "def softmax(vector):\n",
    "    exp_vector = np.exp(vector)\n",
    "    sum_exp = np.sum(exp_vector)\n",
    "    return exp_vector / sum_exp"
   ]
  },
  {
   "cell_type": "markdown",
   "metadata": {},
   "source": [
    "***Deeper Network***"
   ]
  },
  {
   "cell_type": "markdown",
   "metadata": {},
   "source": [
    "### 2 - Optimizing a neural network with backward propagation"
   ]
  },
  {
   "cell_type": "markdown",
   "metadata": {},
   "source": [
    "***The Need for Optimization***"
   ]
  },
  {
   "cell_type": "markdown",
   "metadata": {},
   "source": [
    "***Gradient Descent***"
   ]
  },
  {
   "cell_type": "markdown",
   "metadata": {},
   "source": [
    "***Back Propagation***"
   ]
  },
  {
   "cell_type": "markdown",
   "metadata": {},
   "source": [
    "### 3 - Building deep learning models with keras"
   ]
  },
  {
   "cell_type": "markdown",
   "metadata": {},
   "source": [
    "***Introduction to Keras***"
   ]
  },
  {
   "cell_type": "markdown",
   "metadata": {},
   "source": [
    "### 4 - Fine-tuning keras models"
   ]
  },
  {
   "cell_type": "markdown",
   "metadata": {},
   "source": [
    "***Understanding Model Optimization***"
   ]
  },
  {
   "cell_type": "markdown",
   "metadata": {},
   "source": [
    "***Model Capacity***"
   ]
  }
 ],
 "metadata": {
  "colab": {
   "authorship_tag": "ABX9TyMPO/FvRXqkzT+0xh4RWBFJ",
   "name": "Introduction to Deep Learning.ipynb",
   "provenance": []
  },
  "kernelspec": {
   "display_name": "Python 3 (ipykernel)",
   "language": "python",
   "name": "python3"
  },
  "language_info": {
   "codemirror_mode": {
    "name": "ipython",
    "version": 3
   },
   "file_extension": ".py",
   "mimetype": "text/x-python",
   "name": "python",
   "nbconvert_exporter": "python",
   "pygments_lexer": "ipython3",
   "version": "3.9.7"
  }
 },
 "nbformat": 4,
 "nbformat_minor": 1
}
