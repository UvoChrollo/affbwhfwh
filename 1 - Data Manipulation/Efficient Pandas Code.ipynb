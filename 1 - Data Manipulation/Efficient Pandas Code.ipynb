{
  "cells": [
    {
      "cell_type": "markdown",
      "id": "b330d1e5",
      "metadata": {
        "id": "b330d1e5"
      },
      "source": [
        "1. Selecting columns and rows efficiently\n",
        "2. Replacing values in a DataFrame\n",
        "3. Efficient iterating\n",
        "4. Data manipulation using .groupby()"
      ]
    },
    {
      "cell_type": "markdown",
      "id": "4b9e4d78",
      "metadata": {
        "id": "4b9e4d78"
      },
      "source": [
        "### 1 - Selecting columns and rows efficiently"
      ]
    },
    {
      "cell_type": "code",
      "execution_count": 1,
      "id": "5a057094",
      "metadata": {
        "colab": {
          "base_uri": "https://localhost:8080/",
          "height": 206
        },
        "id": "5a057094",
        "outputId": "bb5f8dee-b973-4504-dffc-3ac5067ba1e5"
      },
      "outputs": [
        {
          "output_type": "execute_result",
          "data": {
            "text/plain": [
              "   S1  R1  S2  R2  S3  R3  S4  R4  S5  R5  Class\n",
              "0   1  10   1  11   1  13   1  12   1   1      9\n",
              "1   2  11   2  13   2  10   2  12   2   1      9\n",
              "2   3  12   3  11   3  13   3  10   3   1      9\n",
              "3   4  10   4  11   4   1   4  13   4  12      9\n",
              "4   4   1   4  13   4  12   4  11   4  10      9"
            ],
            "text/html": [
              "\n",
              "  <div id=\"df-c5a54666-8c34-4876-a78f-ca4037daf16a\">\n",
              "    <div class=\"colab-df-container\">\n",
              "      <div>\n",
              "<style scoped>\n",
              "    .dataframe tbody tr th:only-of-type {\n",
              "        vertical-align: middle;\n",
              "    }\n",
              "\n",
              "    .dataframe tbody tr th {\n",
              "        vertical-align: top;\n",
              "    }\n",
              "\n",
              "    .dataframe thead th {\n",
              "        text-align: right;\n",
              "    }\n",
              "</style>\n",
              "<table border=\"1\" class=\"dataframe\">\n",
              "  <thead>\n",
              "    <tr style=\"text-align: right;\">\n",
              "      <th></th>\n",
              "      <th>S1</th>\n",
              "      <th>R1</th>\n",
              "      <th>S2</th>\n",
              "      <th>R2</th>\n",
              "      <th>S3</th>\n",
              "      <th>R3</th>\n",
              "      <th>S4</th>\n",
              "      <th>R4</th>\n",
              "      <th>S5</th>\n",
              "      <th>R5</th>\n",
              "      <th>Class</th>\n",
              "    </tr>\n",
              "  </thead>\n",
              "  <tbody>\n",
              "    <tr>\n",
              "      <th>0</th>\n",
              "      <td>1</td>\n",
              "      <td>10</td>\n",
              "      <td>1</td>\n",
              "      <td>11</td>\n",
              "      <td>1</td>\n",
              "      <td>13</td>\n",
              "      <td>1</td>\n",
              "      <td>12</td>\n",
              "      <td>1</td>\n",
              "      <td>1</td>\n",
              "      <td>9</td>\n",
              "    </tr>\n",
              "    <tr>\n",
              "      <th>1</th>\n",
              "      <td>2</td>\n",
              "      <td>11</td>\n",
              "      <td>2</td>\n",
              "      <td>13</td>\n",
              "      <td>2</td>\n",
              "      <td>10</td>\n",
              "      <td>2</td>\n",
              "      <td>12</td>\n",
              "      <td>2</td>\n",
              "      <td>1</td>\n",
              "      <td>9</td>\n",
              "    </tr>\n",
              "    <tr>\n",
              "      <th>2</th>\n",
              "      <td>3</td>\n",
              "      <td>12</td>\n",
              "      <td>3</td>\n",
              "      <td>11</td>\n",
              "      <td>3</td>\n",
              "      <td>13</td>\n",
              "      <td>3</td>\n",
              "      <td>10</td>\n",
              "      <td>3</td>\n",
              "      <td>1</td>\n",
              "      <td>9</td>\n",
              "    </tr>\n",
              "    <tr>\n",
              "      <th>3</th>\n",
              "      <td>4</td>\n",
              "      <td>10</td>\n",
              "      <td>4</td>\n",
              "      <td>11</td>\n",
              "      <td>4</td>\n",
              "      <td>1</td>\n",
              "      <td>4</td>\n",
              "      <td>13</td>\n",
              "      <td>4</td>\n",
              "      <td>12</td>\n",
              "      <td>9</td>\n",
              "    </tr>\n",
              "    <tr>\n",
              "      <th>4</th>\n",
              "      <td>4</td>\n",
              "      <td>1</td>\n",
              "      <td>4</td>\n",
              "      <td>13</td>\n",
              "      <td>4</td>\n",
              "      <td>12</td>\n",
              "      <td>4</td>\n",
              "      <td>11</td>\n",
              "      <td>4</td>\n",
              "      <td>10</td>\n",
              "      <td>9</td>\n",
              "    </tr>\n",
              "  </tbody>\n",
              "</table>\n",
              "</div>\n",
              "      <button class=\"colab-df-convert\" onclick=\"convertToInteractive('df-c5a54666-8c34-4876-a78f-ca4037daf16a')\"\n",
              "              title=\"Convert this dataframe to an interactive table.\"\n",
              "              style=\"display:none;\">\n",
              "        \n",
              "  <svg xmlns=\"http://www.w3.org/2000/svg\" height=\"24px\"viewBox=\"0 0 24 24\"\n",
              "       width=\"24px\">\n",
              "    <path d=\"M0 0h24v24H0V0z\" fill=\"none\"/>\n",
              "    <path d=\"M18.56 5.44l.94 2.06.94-2.06 2.06-.94-2.06-.94-.94-2.06-.94 2.06-2.06.94zm-11 1L8.5 8.5l.94-2.06 2.06-.94-2.06-.94L8.5 2.5l-.94 2.06-2.06.94zm10 10l.94 2.06.94-2.06 2.06-.94-2.06-.94-.94-2.06-.94 2.06-2.06.94z\"/><path d=\"M17.41 7.96l-1.37-1.37c-.4-.4-.92-.59-1.43-.59-.52 0-1.04.2-1.43.59L10.3 9.45l-7.72 7.72c-.78.78-.78 2.05 0 2.83L4 21.41c.39.39.9.59 1.41.59.51 0 1.02-.2 1.41-.59l7.78-7.78 2.81-2.81c.8-.78.8-2.07 0-2.86zM5.41 20L4 18.59l7.72-7.72 1.47 1.35L5.41 20z\"/>\n",
              "  </svg>\n",
              "      </button>\n",
              "      \n",
              "  <style>\n",
              "    .colab-df-container {\n",
              "      display:flex;\n",
              "      flex-wrap:wrap;\n",
              "      gap: 12px;\n",
              "    }\n",
              "\n",
              "    .colab-df-convert {\n",
              "      background-color: #E8F0FE;\n",
              "      border: none;\n",
              "      border-radius: 50%;\n",
              "      cursor: pointer;\n",
              "      display: none;\n",
              "      fill: #1967D2;\n",
              "      height: 32px;\n",
              "      padding: 0 0 0 0;\n",
              "      width: 32px;\n",
              "    }\n",
              "\n",
              "    .colab-df-convert:hover {\n",
              "      background-color: #E2EBFA;\n",
              "      box-shadow: 0px 1px 2px rgba(60, 64, 67, 0.3), 0px 1px 3px 1px rgba(60, 64, 67, 0.15);\n",
              "      fill: #174EA6;\n",
              "    }\n",
              "\n",
              "    [theme=dark] .colab-df-convert {\n",
              "      background-color: #3B4455;\n",
              "      fill: #D2E3FC;\n",
              "    }\n",
              "\n",
              "    [theme=dark] .colab-df-convert:hover {\n",
              "      background-color: #434B5C;\n",
              "      box-shadow: 0px 1px 3px 1px rgba(0, 0, 0, 0.15);\n",
              "      filter: drop-shadow(0px 1px 2px rgba(0, 0, 0, 0.3));\n",
              "      fill: #FFFFFF;\n",
              "    }\n",
              "  </style>\n",
              "\n",
              "      <script>\n",
              "        const buttonEl =\n",
              "          document.querySelector('#df-c5a54666-8c34-4876-a78f-ca4037daf16a button.colab-df-convert');\n",
              "        buttonEl.style.display =\n",
              "          google.colab.kernel.accessAllowed ? 'block' : 'none';\n",
              "\n",
              "        async function convertToInteractive(key) {\n",
              "          const element = document.querySelector('#df-c5a54666-8c34-4876-a78f-ca4037daf16a');\n",
              "          const dataTable =\n",
              "            await google.colab.kernel.invokeFunction('convertToInteractive',\n",
              "                                                     [key], {});\n",
              "          if (!dataTable) return;\n",
              "\n",
              "          const docLinkHtml = 'Like what you see? Visit the ' +\n",
              "            '<a target=\"_blank\" href=https://colab.research.google.com/notebooks/data_table.ipynb>data table notebook</a>'\n",
              "            + ' to learn more about interactive tables.';\n",
              "          element.innerHTML = '';\n",
              "          dataTable['output_type'] = 'display_data';\n",
              "          await google.colab.output.renderOutput(dataTable, element);\n",
              "          const docLink = document.createElement('div');\n",
              "          docLink.innerHTML = docLinkHtml;\n",
              "          element.appendChild(docLink);\n",
              "        }\n",
              "      </script>\n",
              "    </div>\n",
              "  </div>\n",
              "  "
            ]
          },
          "metadata": {},
          "execution_count": 1
        }
      ],
      "source": [
        "import pandas as pd\n",
        "import numpy as np\n",
        "import time\n",
        "\n",
        "url_poker = \"https://raw.githubusercontent.com/SophrosyneEunoia/Shockwave/main/poker_hand.csv\"\n",
        "\n",
        "poker_hands = pd.read_csv(url_poker)\n",
        "poker_hands.head()"
      ]
    },
    {
      "cell_type": "code",
      "execution_count": 2,
      "id": "c32261ac",
      "metadata": {
        "colab": {
          "base_uri": "https://localhost:8080/"
        },
        "id": "c32261ac",
        "outputId": "2a36318f-46b2-43f5-b84a-d7b6dc12b1b5"
      },
      "outputs": [
        {
          "output_type": "execute_result",
          "data": {
            "text/plain": [
              "(25010, 11)"
            ]
          },
          "metadata": {},
          "execution_count": 2
        }
      ],
      "source": [
        "poker_hands.shape"
      ]
    },
    {
      "cell_type": "code",
      "source": [
        "# Define the range of rows to select: row_nums\n",
        "row_nums = range(0, 1000)\n",
        "\n",
        "# Select the rows using .loc[] and row_nums and record the time before and after\n",
        "loc_start_time = time.time()\n",
        "rows = poker_hands.loc[row_nums]\n",
        "loc_end_time = time.time()\n",
        "\n",
        "# Print the time it took to select the rows using .loc\n",
        "print(\"Time using .loc[]: {} sec\".format(loc_end_time - loc_start_time))\n",
        "\n",
        "# Select the rows using .iloc[] and row_nums and record the time before and after\n",
        "iloc_start_time = time.time()\n",
        "rows = poker_hands.iloc[row_nums]\n",
        "iloc_end_time = time.time()\n",
        "\n",
        "# Print the time it took to select the rows using .iloc\n",
        "print(\"Time using .iloc[]: {} sec\".format(iloc_end_time - iloc_start_time))"
      ],
      "metadata": {
        "colab": {
          "base_uri": "https://localhost:8080/"
        },
        "id": "4pVEaRFIDsKr",
        "outputId": "8ef61b67-7ade-4c50-8a8f-214d6ded3272"
      },
      "id": "4pVEaRFIDsKr",
      "execution_count": 3,
      "outputs": [
        {
          "output_type": "stream",
          "name": "stdout",
          "text": [
            "Time using .loc[]: 0.0018970966339111328 sec\n",
            "Time using .iloc[]: 0.0005562305450439453 sec\n"
          ]
        }
      ]
    },
    {
      "cell_type": "code",
      "source": [
        "# Use .iloc to select the first, fourth, fifth, seventh and eighth column and record the times before and after\n",
        "iloc_start_time = time.time()\n",
        "cols = poker_hands.iloc[:,[0,3,4,6,7]]\n",
        "iloc_end_time = time.time()\n",
        "\n",
        "# Print the time it took\n",
        "print(\"Time using .iloc[] : {} sec\".format(iloc_end_time - iloc_start_time))\n",
        "\n",
        "# Use simple column selection to select the first, fourth, fifth, seventh and eighth column and record the times before and after\n",
        "names_start_time = time.time()\n",
        "cols = poker_hands[['S1', 'S2', 'R2', 'R3', 'S4']]\n",
        "names_end_time = time.time()\n",
        "\n",
        "# Print the time it took\n",
        "print(\"Time using selection by name : {} sec\".format(names_end_time - names_start_time))"
      ],
      "metadata": {
        "colab": {
          "base_uri": "https://localhost:8080/"
        },
        "id": "FclSswnBEhW4",
        "outputId": "2ad9c20d-5452-46be-f724-d2a906f9c062"
      },
      "id": "FclSswnBEhW4",
      "execution_count": 4,
      "outputs": [
        {
          "output_type": "stream",
          "name": "stdout",
          "text": [
            "Time using .iloc[] : 0.0017397403717041016 sec\n",
            "Time using selection by name : 0.0015785694122314453 sec\n"
          ]
        }
      ]
    },
    {
      "cell_type": "code",
      "source": [
        "# Extract number of rows in dataset\n",
        "N=poker_hands.shape[0]\n",
        "\n",
        "# Select and time the selection of the 75% of the dataset's rows using numpy\n",
        "rand_start_time = time.time()\n",
        "poker_hands.iloc[np.random.randint(low=0, high=N, size=int(0.75 * N))]\n",
        "print(\"Time using Numpy: {} sec\".format(time.time() - rand_start_time))\n",
        "\n",
        "# Select and time the selection of the 75% of the dataset's rows using sample()\n",
        "samp_start_time = time.time()\n",
        "poker_hands.sample(int(0.75 * N), axis=0, replace = True)\n",
        "print(\"Time using .sample: {} sec\".format(time.time() - samp_start_time))"
      ],
      "metadata": {
        "colab": {
          "base_uri": "https://localhost:8080/"
        },
        "id": "dqcnT4czHSIN",
        "outputId": "e3820151-200d-4186-dcfd-e3b79952ee89"
      },
      "id": "dqcnT4czHSIN",
      "execution_count": 5,
      "outputs": [
        {
          "output_type": "stream",
          "name": "stdout",
          "text": [
            "Time using Numpy: 0.003726482391357422 sec\n",
            "Time using .sample: 0.0026307106018066406 sec\n"
          ]
        }
      ]
    },
    {
      "cell_type": "code",
      "source": [
        "# Extract number of columns in dataset\n",
        "D=poker_hands.shape[1]\n",
        "\n",
        "# Select and time the selection of 4 of the dataset's columns using NumPy\n",
        "np_start_time = time.time()\n",
        "poker_hands.iloc[:,np.random.randint(low=0, high=D, size=4)]\n",
        "print(\"Time using NymPy's random.randint(): {} sec\".format(time.time() - np_start_time))\n",
        "\n",
        "# Select and time the selection of 4 of the dataset's columns using pandas\n",
        "pd_start_time = time.time()\n",
        "poker_hands.sample(4, axis=1)\n",
        "print(\"Time using panda's .sample(): {} sec\".format(time.time() - pd_start_time))"
      ],
      "metadata": {
        "colab": {
          "base_uri": "https://localhost:8080/"
        },
        "id": "FfnUYG6jHl4A",
        "outputId": "ef71dae1-638c-4bc1-8b2c-0f80423d54b2"
      },
      "id": "FfnUYG6jHl4A",
      "execution_count": 6,
      "outputs": [
        {
          "output_type": "stream",
          "name": "stdout",
          "text": [
            "Time using NymPy's random.randint(): 0.008308172225952148 sec\n",
            "Time using panda's .sample(): 0.004235029220581055 sec\n"
          ]
        }
      ]
    }
  ],
  "metadata": {
    "kernelspec": {
      "display_name": "Python 3 (ipykernel)",
      "language": "python",
      "name": "python3"
    },
    "language_info": {
      "codemirror_mode": {
        "name": "ipython",
        "version": 3
      },
      "file_extension": ".py",
      "mimetype": "text/x-python",
      "name": "python",
      "nbconvert_exporter": "python",
      "pygments_lexer": "ipython3",
      "version": "3.9.7"
    },
    "colab": {
      "name": "Efficient Pandas Code.ipynb",
      "provenance": []
    }
  },
  "nbformat": 4,
  "nbformat_minor": 5
}