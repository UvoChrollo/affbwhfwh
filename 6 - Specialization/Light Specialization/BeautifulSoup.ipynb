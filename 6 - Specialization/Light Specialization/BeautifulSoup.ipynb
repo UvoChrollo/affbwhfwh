{
 "cells": [
  {
   "cell_type": "code",
   "execution_count": 1,
   "id": "6ce22d55",
   "metadata": {},
   "outputs": [
    {
     "name": "stdout",
     "output_type": "stream",
     "text": [
      "200\n"
     ]
    }
   ],
   "source": [
    "from bs4 import BeautifulSoup as bs\n",
    "import requests as req\n",
    "\n",
    "page = req.get(\"https://raw.githubusercontent.com/SophrosyneEunoia/Shockwave/main/test.html\")\n",
    "\n",
    "print(page.status_code)"
   ]
  },
  {
   "cell_type": "code",
   "execution_count": 2,
   "id": "02ce2e82",
   "metadata": {},
   "outputs": [],
   "source": [
    "soup = bs(page.content, 'html.parser')"
   ]
  },
  {
   "cell_type": "markdown",
   "id": "9ac2a2d4",
   "metadata": {},
   "source": [
    "<p style=\"font-size:20px\"><b>Title</b></p>"
   ]
  },
  {
   "cell_type": "code",
   "execution_count": 3,
   "id": "f1486e3a",
   "metadata": {},
   "outputs": [
    {
     "name": "stdout",
     "output_type": "stream",
     "text": [
      "<title>Beautiful Soup Practice</title>\n"
     ]
    }
   ],
   "source": [
    "print(soup.title)"
   ]
  },
  {
   "cell_type": "code",
   "execution_count": 4,
   "id": "e786a41e",
   "metadata": {},
   "outputs": [
    {
     "name": "stdout",
     "output_type": "stream",
     "text": [
      "Beautiful Soup Practice\n"
     ]
    }
   ],
   "source": [
    "print(soup.title.string)"
   ]
  },
  {
   "cell_type": "code",
   "execution_count": 5,
   "id": "1a5bb99c",
   "metadata": {},
   "outputs": [
    {
     "name": "stdout",
     "output_type": "stream",
     "text": [
      "head\n"
     ]
    }
   ],
   "source": [
    "print(soup.title.parent.name)"
   ]
  },
  {
   "cell_type": "markdown",
   "id": "1358f7ba",
   "metadata": {},
   "source": [
    "<p style=\"font-size:20px\"><b>Heading</b></p>"
   ]
  },
  {
   "cell_type": "code",
   "execution_count": 6,
   "id": "b6d47fc4",
   "metadata": {},
   "outputs": [
    {
     "name": "stdout",
     "output_type": "stream",
     "text": [
      "<h1>Naruto Uzumaki</h1>\n"
     ]
    }
   ],
   "source": [
    "print(soup.h1)"
   ]
  },
  {
   "cell_type": "code",
   "execution_count": 7,
   "id": "d5b082f3",
   "metadata": {},
   "outputs": [
    {
     "name": "stdout",
     "output_type": "stream",
     "text": [
      "Naruto Uzumaki\n"
     ]
    }
   ],
   "source": [
    "print(soup.h1.string)"
   ]
  },
  {
   "cell_type": "code",
   "execution_count": 8,
   "id": "3c565711",
   "metadata": {},
   "outputs": [
    {
     "name": "stdout",
     "output_type": "stream",
     "text": [
      "Sasuke Uchiha\n"
     ]
    }
   ],
   "source": [
    "print(soup.h2.string)"
   ]
  },
  {
   "cell_type": "code",
   "execution_count": 9,
   "id": "74b5eb91",
   "metadata": {
    "scrolled": true
   },
   "outputs": [
    {
     "name": "stdout",
     "output_type": "stream",
     "text": [
      "Sakura Haruno\n"
     ]
    }
   ],
   "source": [
    "print(soup.h3.string)"
   ]
  },
  {
   "cell_type": "code",
   "execution_count": 10,
   "id": "fb5ff542",
   "metadata": {},
   "outputs": [
    {
     "name": "stdout",
     "output_type": "stream",
     "text": [
      "[<h1>Naruto Uzumaki</h1>, <h1 class=\"pt\">Hinata Hyuuga</h1>, <h1 id=\"child\">Boruto Uzumaki</h1>, <h1 id=\"child\">Himawari Hyuuga</h1>]\n"
     ]
    }
   ],
   "source": [
    "print(soup.find_all('h1'))"
   ]
  },
  {
   "cell_type": "code",
   "execution_count": 11,
   "id": "619fd34c",
   "metadata": {},
   "outputs": [
    {
     "name": "stdout",
     "output_type": "stream",
     "text": [
      "Naruto Uzumaki\n",
      "Hinata Hyuuga\n",
      "Boruto Uzumaki\n",
      "Himawari Hyuuga\n"
     ]
    }
   ],
   "source": [
    "for head in soup.find_all('h1'):\n",
    "    print(head.string)"
   ]
  },
  {
   "cell_type": "markdown",
   "id": "db20f29a",
   "metadata": {},
   "source": [
    "<p style=\"font-size:20px\"><b>Paragraph</b></p>"
   ]
  },
  {
   "cell_type": "code",
   "execution_count": 12,
   "id": "5dad20c3",
   "metadata": {},
   "outputs": [
    {
     "name": "stdout",
     "output_type": "stream",
     "text": [
      "<p class=\"rapper\">Kendrick Lamar</p>\n"
     ]
    }
   ],
   "source": [
    "print(soup.p)"
   ]
  },
  {
   "cell_type": "code",
   "execution_count": 13,
   "id": "8b58a1ba",
   "metadata": {
    "scrolled": true
   },
   "outputs": [
    {
     "name": "stdout",
     "output_type": "stream",
     "text": [
      "Kendrick Lamar\n"
     ]
    }
   ],
   "source": [
    "print(soup.p.string)"
   ]
  },
  {
   "cell_type": "code",
   "execution_count": 14,
   "id": "a2ecbb6f",
   "metadata": {},
   "outputs": [
    {
     "name": "stdout",
     "output_type": "stream",
     "text": [
      "[<p class=\"rapper\">Kendrick Lamar</p>, <p class=\"rapper\">Snoop Dog</p>]\n"
     ]
    }
   ],
   "source": [
    "print(soup.find_all('p'))"
   ]
  },
  {
   "cell_type": "code",
   "execution_count": 15,
   "id": "703bcd44",
   "metadata": {},
   "outputs": [
    {
     "name": "stdout",
     "output_type": "stream",
     "text": [
      "You can't use string for find_all()\n"
     ]
    }
   ],
   "source": [
    "try:\n",
    "    print(soup.find_all('p').string)\n",
    "except:\n",
    "    print(\"You can't use string for find_all()\")"
   ]
  },
  {
   "cell_type": "code",
   "execution_count": 16,
   "id": "8cc858d9",
   "metadata": {},
   "outputs": [
    {
     "name": "stdout",
     "output_type": "stream",
     "text": [
      "Kendrick Lamar\n",
      "Snoop Dog\n"
     ]
    }
   ],
   "source": [
    "for para in soup.find_all('p'):\n",
    "    print(para.string)"
   ]
  },
  {
   "cell_type": "markdown",
   "id": "0743d162",
   "metadata": {},
   "source": [
    "<p style=\"font-size:20px\"><b>Hyperlink</b></p>"
   ]
  },
  {
   "cell_type": "markdown",
   "id": "da856bd2",
   "metadata": {},
   "source": [
    "<p style=\"font-size:20px\"><b>Class dan ID</b></p>"
   ]
  },
  {
   "cell_type": "code",
   "execution_count": 17,
   "id": "bf8539a3",
   "metadata": {},
   "outputs": [
    {
     "name": "stdout",
     "output_type": "stream",
     "text": [
      "['Hinata Hyuuga', 'Sakura Haruno', 'Sasuke Uchiha']\n"
     ]
    }
   ],
   "source": [
    "nama_partner = [text.string for text in soup.find_all(class_='pt')]\n",
    "\n",
    "print(nama_partner)"
   ]
  },
  {
   "cell_type": "code",
   "execution_count": 18,
   "id": "08bcbc8d",
   "metadata": {},
   "outputs": [
    {
     "name": "stdout",
     "output_type": "stream",
     "text": [
      "['Boruto Uzumaki', 'Himawari Hyuuga', 'Sarada Uchiha', 'Sarada Uchiha']\n"
     ]
    }
   ],
   "source": [
    "nama_partner = [text.string for text in soup.find_all(id='child')]\n",
    "\n",
    "print(nama_partner)"
   ]
  },
  {
   "cell_type": "markdown",
   "id": "df71e069",
   "metadata": {},
   "source": [
    "Target\n",
    "1. [Fake Jobs](https://realpython.github.io/fake-jobs/)\n",
    "2. [GitHub Testing](https://raw.githubusercontent.com/SophrosyneEunoia/Shockwave/main/test.html)"
   ]
  }
 ],
 "metadata": {
  "kernelspec": {
   "display_name": "Python 3 (ipykernel)",
   "language": "python",
   "name": "python3"
  },
  "language_info": {
   "codemirror_mode": {
    "name": "ipython",
    "version": 3
   },
   "file_extension": ".py",
   "mimetype": "text/x-python",
   "name": "python",
   "nbconvert_exporter": "python",
   "pygments_lexer": "ipython3",
   "version": "3.9.7"
  }
 },
 "nbformat": 4,
 "nbformat_minor": 5
}
