{
  "nbformat": 4,
  "nbformat_minor": 0,
  "metadata": {
    "colab": {
      "name": "Analyzing Marketing Campaigns.ipynb",
      "provenance": [],
      "authorship_tag": "ABX9TyM1aPVu5Lv01iItBC/7B45U",
      "include_colab_link": true
    },
    "kernelspec": {
      "name": "python3",
      "display_name": "Python 3"
    },
    "language_info": {
      "name": "python"
    }
  },
  "cells": [
    {
      "cell_type": "markdown",
      "metadata": {
        "id": "view-in-github",
        "colab_type": "text"
      },
      "source": [
        "<a href=\"https://colab.research.google.com/github/MrDataImpact/Data-Manipulation/blob/main/Analyzing%20Marketing%20Campaigns.ipynb\" target=\"_parent\"><img src=\"https://colab.research.google.com/assets/colab-badge.svg\" alt=\"Open In Colab\"/></a>"
      ]
    },
    {
      "cell_type": "markdown",
      "source": [
        "#### 1 - Pandas"
      ],
      "metadata": {
        "id": "_J0EHSoByGAE"
      }
    },
    {
      "cell_type": "markdown",
      "source": [
        "#### 2 - Exploratory Analysis & Summary Statistics"
      ],
      "metadata": {
        "id": "NYfYG8oZx_vI"
      }
    },
    {
      "cell_type": "markdown",
      "source": [
        "#### 3 - Conversion Attribution"
      ],
      "metadata": {
        "id": "O-uR0XM2x3as"
      }
    },
    {
      "cell_type": "markdown",
      "source": [
        "#### 4 - Personalization A/B Test"
      ],
      "metadata": {
        "id": "X4npDH95x6gr"
      }
    },
    {
      "cell_type": "markdown",
      "source": [
        "#### Reference\n",
        "[First Url](https://assets.datacamp.com/production/repositories/3879/datasets/bdbbd97f839ef5cafebcc15363201d0e7b08881a/marketing.csv)<br>\n",
        "[Second Url](https://assets.datacamp.com/production/repositories/3879/datasets/6d86195bbc39785128d437e26a14ffb7cf68f9dc/marketing_new.csv)"
      ],
      "metadata": {
        "id": "prce-t-wEcCG"
      }
    }
  ]
}