{
  "nbformat": 4,
  "nbformat_minor": 0,
  "metadata": {
    "colab": {
      "name": "Statistical Thinking.ipynb",
      "provenance": [],
      "authorship_tag": "ABX9TyN8VcY26Hjx12+EGI8Zbyaa",
      "include_colab_link": true
    },
    "kernelspec": {
      "name": "python3",
      "display_name": "Python 3"
    },
    "language_info": {
      "name": "python"
    }
  },
  "cells": [
    {
      "cell_type": "markdown",
      "metadata": {
        "id": "view-in-github",
        "colab_type": "text"
      },
      "source": [
        "<a href=\"https://colab.research.google.com/github/MrDataImpact/Resources/blob/main/Statistics/Statistical%20Thinking.ipynb\" target=\"_parent\"><img src=\"https://colab.research.google.com/assets/colab-badge.svg\" alt=\"Open In Colab\"/></a>"
      ]
    },
    {
      "cell_type": "markdown",
      "source": [
        "### Part 1"
      ],
      "metadata": {
        "id": "9PzxIyEHGKCS"
      }
    },
    {
      "cell_type": "markdown",
      "source": [
        "#### Graphical Exploratory Data Analysis"
      ],
      "metadata": {
        "id": "tfgGbzzHGkup"
      }
    },
    {
      "cell_type": "markdown",
      "source": [
        "#### Quantitative Exploratory Data Analysis"
      ],
      "metadata": {
        "id": "RbEiLtAbGof4"
      }
    },
    {
      "cell_type": "markdown",
      "source": [
        "#### Thinking Probabilistically - Discrete Variables"
      ],
      "metadata": {
        "id": "q5ybdLeMGrVX"
      }
    },
    {
      "cell_type": "markdown",
      "source": [
        "#### Thinking Probabilistically - Continuous Variables"
      ],
      "metadata": {
        "id": "guv6cMhJGyEb"
      }
    },
    {
      "cell_type": "markdown",
      "source": [
        "### Part 2"
      ],
      "metadata": {
        "id": "VfjgpsEOGMRh"
      }
    },
    {
      "cell_type": "markdown",
      "source": [
        "#### Parameter estimation by optimization"
      ],
      "metadata": {
        "id": "8VY1QTD3HCaT"
      }
    },
    {
      "cell_type": "markdown",
      "source": [
        "#### Bootstrap confidence intervals"
      ],
      "metadata": {
        "id": "YNhjQMHaHKAN"
      }
    },
    {
      "cell_type": "markdown",
      "source": [
        "#### Introduction to hypothesis testing"
      ],
      "metadata": {
        "id": "cx9Ho9uVHg4E"
      }
    },
    {
      "cell_type": "markdown",
      "source": [
        "#### Hypothesis test examples"
      ],
      "metadata": {
        "id": "3DgB3lMTHkkw"
      }
    }
  ]
}