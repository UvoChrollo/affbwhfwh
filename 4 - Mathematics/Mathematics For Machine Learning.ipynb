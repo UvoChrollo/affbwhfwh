{
 "cells": [
  {
   "cell_type": "markdown",
   "id": "5617496e",
   "metadata": {},
   "source": [
    "### 1 - Linear Algebra"
   ]
  },
  {
   "cell_type": "code",
   "execution_count": 1,
   "id": "e8e403c2",
   "metadata": {},
   "outputs": [
    {
     "name": "stdout",
     "output_type": "stream",
     "text": [
      "[1 2]\n",
      "[1 1]\n"
     ]
    }
   ],
   "source": [
    "import numpy as np\n",
    "\n",
    "a = np.array([1,2])\n",
    "b = np.array([1,1])\n",
    "\n",
    "print(a)\n",
    "print(b)"
   ]
  },
  {
   "cell_type": "code",
   "execution_count": 2,
   "id": "7594710d",
   "metadata": {},
   "outputs": [
    {
     "name": "stdout",
     "output_type": "stream",
     "text": [
      "[2 3]\n"
     ]
    }
   ],
   "source": [
    "# Vector Addition\n",
    "\n",
    "a_b = a + b\n",
    "\n",
    "print(a_b)"
   ]
  },
  {
   "cell_type": "code",
   "execution_count": 3,
   "id": "6f647f7f",
   "metadata": {},
   "outputs": [
    {
     "name": "stdout",
     "output_type": "stream",
     "text": [
      "[6 9]\n"
     ]
    }
   ],
   "source": [
    "# Scalar Multiplication\n",
    "\n",
    "n = 3\n",
    "\n",
    "ab_n = a_b * n\n",
    "\n",
    "print(ab_n)"
   ]
  },
  {
   "cell_type": "code",
   "execution_count": 4,
   "id": "39664398",
   "metadata": {},
   "outputs": [
    {
     "name": "stdout",
     "output_type": "stream",
     "text": [
      "[4 7]\n"
     ]
    }
   ],
   "source": [
    "# Vector Substraction\n",
    "\n",
    "try:\n",
    "    print(ab_n - 2)\n",
    "except:\n",
    "    print(\"Unsolved Equation !\")"
   ]
  },
  {
   "cell_type": "code",
   "execution_count": 5,
   "id": "268e90db",
   "metadata": {},
   "outputs": [
    {
     "name": "stdout",
     "output_type": "stream",
     "text": [
      "5.0\n"
     ]
    }
   ],
   "source": [
    "# Size of a vector\n",
    "from typing import Union\n",
    "\n",
    "def size_of_vector(vector : np.array) -> Union[int, float]:\n",
    "    if len(vector) != 2:\n",
    "        raise ValueError(\"I'm sorry, the current len that this function can process is 2\")\n",
    "    else:\n",
    "        return np.sqrt(sum([arr * arr for arr in vector]))\n",
    "    \n",
    "print(size_of_vector(np.array([3,4])))"
   ]
  },
  {
   "cell_type": "code",
   "execution_count": 6,
   "id": "164a2648",
   "metadata": {},
   "outputs": [
    {
     "name": "stdout",
     "output_type": "stream",
     "text": [
      "3\n"
     ]
    }
   ],
   "source": [
    "from typing import List\n",
    "\n",
    "def dot_product(a : List[int], b : List[int]):\n",
    "    return sum(a * b)\n",
    "\n",
    "print(dot_product(a, b))"
   ]
  },
  {
   "cell_type": "code",
   "execution_count": null,
   "id": "a83d477c",
   "metadata": {},
   "outputs": [],
   "source": [
    "def cosine_rule(a, b, cos):\n",
    "    return a**2 + b**2 + 2*a*b*cos"
   ]
  }
 ],
 "metadata": {
  "kernelspec": {
   "display_name": "Python 3 (ipykernel)",
   "language": "python",
   "name": "python3"
  },
  "language_info": {
   "codemirror_mode": {
    "name": "ipython",
    "version": 3
   },
   "file_extension": ".py",
   "mimetype": "text/x-python",
   "name": "python",
   "nbconvert_exporter": "python",
   "pygments_lexer": "ipython3",
   "version": "3.9.7"
  }
 },
 "nbformat": 4,
 "nbformat_minor": 5
}
