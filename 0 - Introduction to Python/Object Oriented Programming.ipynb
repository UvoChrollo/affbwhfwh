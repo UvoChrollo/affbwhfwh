{
 "cells": [
  {
   "cell_type": "code",
   "execution_count": 1,
   "id": "023773ed",
   "metadata": {},
   "outputs": [],
   "source": [
    "class Main:\n",
    "    pass"
   ]
  },
  {
   "cell_type": "code",
   "execution_count": 2,
   "id": "93c02706",
   "metadata": {},
   "outputs": [
    {
     "name": "stdout",
     "output_type": "stream",
     "text": [
      "<class '__main__.Main'>\n",
      "<__main__.Main object at 0x0000023B97B54B50>\n",
      "Eminem\n"
     ]
    }
   ],
   "source": [
    "class Main:\n",
    "    var_x = \"Eminem\"\n",
    "    \n",
    "print(Main)\n",
    "print(Main())\n",
    "print(Main.var_x)"
   ]
  },
  {
   "cell_type": "code",
   "execution_count": 3,
   "id": "b323ea38",
   "metadata": {},
   "outputs": [
    {
     "name": "stdout",
     "output_type": "stream",
     "text": [
      "Eminem - Book of Rhymes\n"
     ]
    }
   ],
   "source": [
    "class Main:\n",
    "    \n",
    "    def book(self):\n",
    "        print(\"Eminem - Book of Rhymes\")\n",
    "        \n",
    "m = Main()\n",
    "m.book()"
   ]
  },
  {
   "cell_type": "code",
   "execution_count": 4,
   "id": "b79afb7c",
   "metadata": {},
   "outputs": [
    {
     "name": "stdout",
     "output_type": "stream",
     "text": [
      "Eminem 49\n",
      "Kid Cudi 38\n"
     ]
    }
   ],
   "source": [
    "class Main:\n",
    "    \n",
    "    def __init__(self,nama,umur):\n",
    "        self.nama = nama\n",
    "        self.umur = umur\n",
    "        \n",
    "em = Main('Eminem',49)\n",
    "kc = Main('Kid Cudi',38)\n",
    "\n",
    "print(em.nama, em.umur)\n",
    "print(kc.nama, kc.umur)"
   ]
  }
 ],
 "metadata": {
  "kernelspec": {
   "display_name": "Python 3 (ipykernel)",
   "language": "python",
   "name": "python3"
  },
  "language_info": {
   "codemirror_mode": {
    "name": "ipython",
    "version": 3
   },
   "file_extension": ".py",
   "mimetype": "text/x-python",
   "name": "python",
   "nbconvert_exporter": "python",
   "pygments_lexer": "ipython3",
   "version": "3.9.7"
  }
 },
 "nbformat": 4,
 "nbformat_minor": 5
}
