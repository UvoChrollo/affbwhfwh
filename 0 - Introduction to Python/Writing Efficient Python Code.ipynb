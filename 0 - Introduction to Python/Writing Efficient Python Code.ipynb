{
 "cells": [
  {
   "cell_type": "code",
   "execution_count": 1,
   "id": "c2b8e511",
   "metadata": {},
   "outputs": [
    {
     "name": "stdout",
     "output_type": "stream",
     "text": [
      "[1, 2, 3, 4, 5]\n"
     ]
    }
   ],
   "source": [
    "nums = [1,2,3,4,5]\n",
    "\n",
    "print(nums)"
   ]
  },
  {
   "cell_type": "code",
   "execution_count": 2,
   "id": "bc72392a",
   "metadata": {},
   "outputs": [
    {
     "name": "stdout",
     "output_type": "stream",
     "text": [
      "[1, 2, 3, 4, 5]\n"
     ]
    }
   ],
   "source": [
    "nums = [*range(1,6)]\n",
    "\n",
    "print(nums)"
   ]
  },
  {
   "cell_type": "code",
   "execution_count": 3,
   "id": "b711fd35",
   "metadata": {},
   "outputs": [
    {
     "name": "stdout",
     "output_type": "stream",
     "text": [
      "[1, 3, 5, 7, 9]\n"
     ]
    }
   ],
   "source": [
    "nums = [*range(1,11,2)]\n",
    "\n",
    "print(nums)"
   ]
  },
  {
   "cell_type": "code",
   "execution_count": 4,
   "id": "bcfc1faf",
   "metadata": {},
   "outputs": [
    {
     "name": "stdout",
     "output_type": "stream",
     "text": [
      "[(0, 'Martin Garrix'), (1, 'Alan Walker'), (2, 'Tiesto'), (3, 'Hardwell'), (4, 'Swedish House Mafia')]\n"
     ]
    }
   ],
   "source": [
    "name = [\"Martin Garrix\",\"Alan Walker\",\"Tiesto\",\"Hardwell\",\"Swedish House Mafia\"]\n",
    "\n",
    "enum = [(i,name) for i,name in enumerate(name)]\n",
    "\n",
    "print(enum)"
   ]
  },
  {
   "cell_type": "code",
   "execution_count": 5,
   "id": "b8da45d5",
   "metadata": {},
   "outputs": [
    {
     "name": "stdout",
     "output_type": "stream",
     "text": [
      "[(0, 'Martin Garrix'), (1, 'Alan Walker'), (2, 'Tiesto'), (3, 'Hardwell'), (4, 'Swedish House Mafia')]\n"
     ]
    }
   ],
   "source": [
    "enums = [*enumerate(name)]\n",
    "\n",
    "print(enums)"
   ]
  },
  {
   "cell_type": "code",
   "execution_count": 6,
   "id": "eb740f9b",
   "metadata": {},
   "outputs": [
    {
     "name": "stdout",
     "output_type": "stream",
     "text": [
      "['MARTIN GARRIX', 'ALAN WALKER', 'TIESTO', 'HARDWELL', 'SWEDISH HOUSE MAFIA']\n"
     ]
    }
   ],
   "source": [
    "upper_name = [*map(str.upper, name)]\n",
    "\n",
    "print(upper_name)"
   ]
  }
 ],
 "metadata": {
  "kernelspec": {
   "display_name": "Python 3 (ipykernel)",
   "language": "python",
   "name": "python3"
  },
  "language_info": {
   "codemirror_mode": {
    "name": "ipython",
    "version": 3
   },
   "file_extension": ".py",
   "mimetype": "text/x-python",
   "name": "python",
   "nbconvert_exporter": "python",
   "pygments_lexer": "ipython3",
   "version": "3.9.7"
  }
 },
 "nbformat": 4,
 "nbformat_minor": 5
}
