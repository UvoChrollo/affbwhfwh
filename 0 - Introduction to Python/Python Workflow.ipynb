{
 "cells": [
  {
   "cell_type": "markdown",
   "id": "3a1912af",
   "metadata": {},
   "source": [
    "### 1 - Python Programming Principles\n",
    "1. Don't Repeat Yourself\n",
    "2. Modularity\n",
    "3. Abstraction"
   ]
  },
  {
   "cell_type": "markdown",
   "id": "2b2094c6",
   "metadata": {},
   "source": [
    "### 2 - Documentation and Tests\n",
    "1. Type Hints\n",
    "2. Docstring\n",
    "3. Reports\n",
    "4. Pytest"
   ]
  },
  {
   "cell_type": "markdown",
   "id": "6a8a2fd2",
   "metadata": {},
   "source": [
    "### 3 - Shell Superpowers\n",
    "\n",
    "1. Command Line Interfaces\n",
    "2. Git\n",
    "3. Virtual Environment\n",
    "4. Persistence and Packaging"
   ]
  },
  {
   "cell_type": "markdown",
   "id": "60c6b9cd",
   "metadata": {},
   "source": [
    "### 4 - Projects, Pipelines, and Parallelism\n",
    "\n",
    "1. Project Templates\n",
    "2. Executable Projects\n",
    "3. Notebook Workflow\n",
    "4. Parallel Computing"
   ]
  }
 ],
 "metadata": {
  "kernelspec": {
   "display_name": "Python 3 (ipykernel)",
   "language": "python",
   "name": "python3"
  },
  "language_info": {
   "codemirror_mode": {
    "name": "ipython",
    "version": 3
   },
   "file_extension": ".py",
   "mimetype": "text/x-python",
   "name": "python",
   "nbconvert_exporter": "python",
   "pygments_lexer": "ipython3",
   "version": "3.9.7"
  }
 },
 "nbformat": 4,
 "nbformat_minor": 5
}
