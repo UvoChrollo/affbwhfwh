{
  "cells": [
    {
      "cell_type": "markdown",
      "metadata": {
        "id": "view-in-github",
        "colab_type": "text"
      },
      "source": [
        "<a href=\"https://colab.research.google.com/github/SophrosyneEunoia/Notes/blob/main/0%20-%20Introduction%20to%20Python/Introduction%20to%20Numerical%20Python.ipynb\" target=\"_parent\"><img src=\"https://colab.research.google.com/assets/colab-badge.svg\" alt=\"Open In Colab\"/></a>"
      ]
    },
    {
      "cell_type": "code",
      "execution_count": 1,
      "id": "ba04430a",
      "metadata": {
        "id": "ba04430a"
      },
      "outputs": [],
      "source": [
        "import numpy as np"
      ]
    },
    {
      "cell_type": "markdown",
      "source": [
        "### 1 - Understanding NumPy Arrays"
      ],
      "metadata": {
        "id": "o4yaQZhHkCtg"
      },
      "id": "o4yaQZhHkCtg"
    },
    {
      "cell_type": "code",
      "source": [
        "arr = np.array([1,2,3,4,5,6])\n",
        "\n",
        "print(arr)"
      ],
      "metadata": {
        "colab": {
          "base_uri": "https://localhost:8080/"
        },
        "id": "LEFM2nGokqQP",
        "outputId": "e9406180-f234-4107-bd98-0edfe95948d2"
      },
      "id": "LEFM2nGokqQP",
      "execution_count": 2,
      "outputs": [
        {
          "output_type": "stream",
          "name": "stdout",
          "text": [
            "[1 2 3 4 5 6]\n"
          ]
        }
      ]
    },
    {
      "cell_type": "code",
      "source": [
        "print(type(arr))"
      ],
      "metadata": {
        "colab": {
          "base_uri": "https://localhost:8080/"
        },
        "id": "jfO28TALlgeY",
        "outputId": "596f5f2f-df67-405e-f138-ee53bff6f524"
      },
      "id": "jfO28TALlgeY",
      "execution_count": 3,
      "outputs": [
        {
          "output_type": "stream",
          "name": "stdout",
          "text": [
            "<class 'numpy.ndarray'>\n"
          ]
        }
      ]
    },
    {
      "cell_type": "code",
      "source": [
        "arr_dua = np.array([[1,2,3],[4,5,6]])\n",
        "\n",
        "print(arr_dua)"
      ],
      "metadata": {
        "colab": {
          "base_uri": "https://localhost:8080/"
        },
        "id": "u7I9vOLqqnm_",
        "outputId": "a6668472-d2e0-4b7c-e402-4b359cac384d"
      },
      "id": "u7I9vOLqqnm_",
      "execution_count": 4,
      "outputs": [
        {
          "output_type": "stream",
          "name": "stdout",
          "text": [
            "[[1 2 3]\n",
            " [4 5 6]]\n"
          ]
        }
      ]
    },
    {
      "cell_type": "code",
      "source": [
        "arr_tiga = np.array([[*range(1,4)],[*range(4,7)],[*range(7,10)]])\n",
        "\n",
        "print(arr_tiga)"
      ],
      "metadata": {
        "colab": {
          "base_uri": "https://localhost:8080/"
        },
        "id": "UbLwzMfnq-yp",
        "outputId": "c9fa0e13-acba-4c6d-f48e-ddf1639a7fe8"
      },
      "id": "UbLwzMfnq-yp",
      "execution_count": 5,
      "outputs": [
        {
          "output_type": "stream",
          "name": "stdout",
          "text": [
            "[[1 2 3]\n",
            " [4 5 6]\n",
            " [7 8 9]]\n"
          ]
        }
      ]
    },
    {
      "cell_type": "code",
      "source": [
        "print(\"Shape\")\n",
        "print(arr.shape)\n",
        "print(arr_dua.shape)\n",
        "print(arr_tiga.shape)"
      ],
      "metadata": {
        "colab": {
          "base_uri": "https://localhost:8080/"
        },
        "id": "Kskq4i95rKYO",
        "outputId": "fa865a33-3e4e-488c-8c65-446f5d0ae720"
      },
      "id": "Kskq4i95rKYO",
      "execution_count": 6,
      "outputs": [
        {
          "output_type": "stream",
          "name": "stdout",
          "text": [
            "Shape\n",
            "(6,)\n",
            "(2, 3)\n",
            "(3, 3)\n"
          ]
        }
      ]
    },
    {
      "cell_type": "code",
      "source": [
        "print(\"Dimension\")\n",
        "print(arr.ndim)\n",
        "print(arr_dua.ndim)\n",
        "print(arr_tiga.ndim)"
      ],
      "metadata": {
        "id": "mKMv23CQs6Am",
        "outputId": "3f1d80e6-c8ac-420b-a946-baf2d71d0d9d",
        "colab": {
          "base_uri": "https://localhost:8080/"
        }
      },
      "id": "mKMv23CQs6Am",
      "execution_count": 7,
      "outputs": [
        {
          "output_type": "stream",
          "name": "stdout",
          "text": [
            "Dimension\n",
            "1\n",
            "2\n",
            "2\n"
          ]
        }
      ]
    },
    {
      "cell_type": "code",
      "source": [
        "print(\"Size\")\n",
        "print(arr.size)\n",
        "print(arr_dua.size)\n",
        "print(arr_tiga.size)"
      ],
      "metadata": {
        "id": "zeVkeI1utChd",
        "outputId": "18b437b0-92d2-4c46-b8e9-18051c835544",
        "colab": {
          "base_uri": "https://localhost:8080/"
        }
      },
      "id": "zeVkeI1utChd",
      "execution_count": 8,
      "outputs": [
        {
          "output_type": "stream",
          "name": "stdout",
          "text": [
            "Size\n",
            "6\n",
            "6\n",
            "9\n"
          ]
        }
      ]
    },
    {
      "cell_type": "code",
      "source": [
        "print(\"len\")\n",
        "print(len(arr))\n",
        "print(len(arr_dua))\n",
        "print(len(arr_tiga))"
      ],
      "metadata": {
        "id": "xDQWNwF7tnZG",
        "outputId": "6e660a33-a769-403e-aa70-9616dd23fd62",
        "colab": {
          "base_uri": "https://localhost:8080/"
        }
      },
      "id": "xDQWNwF7tnZG",
      "execution_count": 9,
      "outputs": [
        {
          "output_type": "stream",
          "name": "stdout",
          "text": [
            "len\n",
            "6\n",
            "2\n",
            "3\n"
          ]
        }
      ]
    },
    {
      "cell_type": "code",
      "source": [
        "zero = np.zeros((2,2))\n",
        "\n",
        "print(zero)"
      ],
      "metadata": {
        "colab": {
          "base_uri": "https://localhost:8080/"
        },
        "id": "xhaeyV8Braor",
        "outputId": "9e5797ad-b44c-4ab1-e01e-aef0a1e167bf"
      },
      "id": "xhaeyV8Braor",
      "execution_count": 10,
      "outputs": [
        {
          "output_type": "stream",
          "name": "stdout",
          "text": [
            "[[0. 0.]\n",
            " [0. 0.]]\n"
          ]
        }
      ]
    },
    {
      "cell_type": "code",
      "source": [
        "rand = np.random.random((3,3))\n",
        "\n",
        "print(rand)"
      ],
      "metadata": {
        "colab": {
          "base_uri": "https://localhost:8080/"
        },
        "id": "4GDWQAKurpR_",
        "outputId": "a7f104ed-ed87-4632-aa6f-703df80437b0"
      },
      "id": "4GDWQAKurpR_",
      "execution_count": 11,
      "outputs": [
        {
          "output_type": "stream",
          "name": "stdout",
          "text": [
            "[[0.92595812 0.76547574 0.98603636]\n",
            " [0.45036851 0.60872386 0.06903094]\n",
            " [0.98324693 0.97984385 0.75769572]]\n"
          ]
        }
      ]
    },
    {
      "cell_type": "code",
      "source": [
        "arange = np.arange(1,11)\n",
        "\n",
        "print(arange)"
      ],
      "metadata": {
        "colab": {
          "base_uri": "https://localhost:8080/"
        },
        "id": "ob5fmq7cr-5r",
        "outputId": "e30bb31e-dc7e-48cf-c98c-bdeaa4a787b9"
      },
      "id": "ob5fmq7cr-5r",
      "execution_count": 12,
      "outputs": [
        {
          "output_type": "stream",
          "name": "stdout",
          "text": [
            "[ 1  2  3  4  5  6  7  8  9 10]\n"
          ]
        }
      ]
    },
    {
      "cell_type": "markdown",
      "source": [
        "### 2 - Selecting and Updating Data"
      ],
      "metadata": {
        "id": "URenrFzpkGJ7"
      },
      "id": "URenrFzpkGJ7"
    },
    {
      "cell_type": "markdown",
      "source": [
        "### 3 - Array Mathematics!"
      ],
      "metadata": {
        "id": "YsFPyitTkLeI"
      },
      "id": "YsFPyitTkLeI"
    },
    {
      "cell_type": "markdown",
      "source": [
        "### 4 - Array Transformations"
      ],
      "metadata": {
        "id": "7mwl8AGBkMi_"
      },
      "id": "7mwl8AGBkMi_"
    },
    {
      "cell_type": "markdown",
      "source": [
        "NumPy vs List\n",
        "1. List can have multiple data type, meanwhile numpy is only for single data type"
      ],
      "metadata": {
        "id": "xf0MlKJQlqtY"
      },
      "id": "xf0MlKJQlqtY"
    }
  ],
  "metadata": {
    "kernelspec": {
      "display_name": "Python 3 (ipykernel)",
      "language": "python",
      "name": "python3"
    },
    "language_info": {
      "codemirror_mode": {
        "name": "ipython",
        "version": 3
      },
      "file_extension": ".py",
      "mimetype": "text/x-python",
      "name": "python",
      "nbconvert_exporter": "python",
      "pygments_lexer": "ipython3",
      "version": "3.9.7"
    },
    "colab": {
      "name": "Introduction to Numerical Python.ipynb",
      "provenance": [],
      "include_colab_link": true
    }
  },
  "nbformat": 4,
  "nbformat_minor": 5
}