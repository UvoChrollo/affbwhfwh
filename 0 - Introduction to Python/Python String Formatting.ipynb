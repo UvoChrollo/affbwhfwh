{
 "cells": [
  {
   "cell_type": "markdown",
   "id": "33110f23",
   "metadata": {},
   "source": [
    "### 1 - Basic Concepts of String Manipulation"
   ]
  },
  {
   "cell_type": "code",
   "execution_count": 1,
   "id": "83059493",
   "metadata": {},
   "outputs": [
    {
     "name": "stdout",
     "output_type": "stream",
     "text": [
      "133\n"
     ]
    }
   ],
   "source": [
    "movie = \"fox and kelley soon become bitter rivals because the new fox books store is opening up right across the block from the small business\"\n",
    "\n",
    "print(len(movie))"
   ]
  },
  {
   "cell_type": "code",
   "execution_count": 2,
   "id": "4285b6e0",
   "metadata": {},
   "outputs": [
    {
     "name": "stdout",
     "output_type": "stream",
     "text": [
      "Length of the movie variable : 133\n"
     ]
    }
   ],
   "source": [
    "length = len(movie)\n",
    "\n",
    "print(\"Length of the movie variable : \"+str(length))"
   ]
  },
  {
   "cell_type": "code",
   "execution_count": 3,
   "id": "453ae1d6",
   "metadata": {},
   "outputs": [
    {
     "name": "stdout",
     "output_type": "stream",
     "text": [
      "Length of the movie variable : 133\n"
     ]
    }
   ],
   "source": [
    "print(\"Length of the movie variable :\",length)"
   ]
  },
  {
   "cell_type": "code",
   "execution_count": 4,
   "id": "be8ee176",
   "metadata": {},
   "outputs": [
    {
     "name": "stdout",
     "output_type": "stream",
     "text": [
      "fox \n"
     ]
    }
   ],
   "source": [
    "fx = movie[:4]\n",
    "\n",
    "print(fx)"
   ]
  },
  {
   "cell_type": "code",
   "execution_count": 5,
   "id": "42146a9e",
   "metadata": {},
   "outputs": [
    {
     "name": "stdout",
     "output_type": "stream",
     "text": [
      "kelley \n"
     ]
    }
   ],
   "source": [
    "kel = movie[8:15]\n",
    "\n",
    "print(kel)"
   ]
  },
  {
   "cell_type": "code",
   "execution_count": 6,
   "id": "62568d8c",
   "metadata": {},
   "outputs": [
    {
     "name": "stdout",
     "output_type": "stream",
     "text": [
      "True\n"
     ]
    }
   ],
   "source": [
    "var_rand = \"madam\"\n",
    "\n",
    "print(var_rand == var_rand[::-1])"
   ]
  },
  {
   "cell_type": "code",
   "execution_count": 7,
   "id": "b4331c73",
   "metadata": {},
   "outputs": [
    {
     "name": "stdout",
     "output_type": "stream",
     "text": [
      "hello\n"
     ]
    }
   ],
   "source": [
    "var_word = \"HELLO\"\n",
    "\n",
    "print(var_word.lower())"
   ]
  },
  {
   "cell_type": "code",
   "execution_count": 8,
   "id": "d76f2016",
   "metadata": {},
   "outputs": [
    {
     "name": "stdout",
     "output_type": "stream",
     "text": [
      "HOLLA\n"
     ]
    }
   ],
   "source": [
    "var_word = \"holla\"\n",
    "\n",
    "print(var_word.upper())"
   ]
  },
  {
   "cell_type": "code",
   "execution_count": 9,
   "id": "c7b7393e",
   "metadata": {},
   "outputs": [
    {
     "name": "stdout",
     "output_type": "stream",
     "text": [
      "i supposed that coming from mtv films i should expect no less\n"
     ]
    }
   ],
   "source": [
    "var_word = \"$i supposed that coming from mtv films i should expect no less$\"\n",
    "\n",
    "print(var_word.strip('$'))"
   ]
  },
  {
   "cell_type": "code",
   "execution_count": 10,
   "id": "574fb961",
   "metadata": {},
   "outputs": [],
   "source": [
    "movie = \"the film,however,is all good<\\\\i>\"\n",
    "\n",
    "no_tag = movie.rstrip('<\\\\i>')"
   ]
  },
  {
   "cell_type": "code",
   "execution_count": 11,
   "id": "1d691db8",
   "metadata": {},
   "outputs": [
    {
     "name": "stdout",
     "output_type": "stream",
     "text": [
      "['the film', 'however', 'is all good']\n"
     ]
    }
   ],
   "source": [
    "spliter = no_tag.split(',')\n",
    "\n",
    "print(spliter)"
   ]
  },
  {
   "cell_type": "code",
   "execution_count": 12,
   "id": "51a6c737",
   "metadata": {},
   "outputs": [
    {
     "name": "stdout",
     "output_type": "stream",
     "text": [
      "the film however is all good\n"
     ]
    }
   ],
   "source": [
    "print(\" \".join(spliter))"
   ]
  },
  {
   "cell_type": "code",
   "execution_count": 13,
   "id": "c65288dd",
   "metadata": {},
   "outputs": [
    {
     "name": "stdout",
     "output_type": "stream",
     "text": [
      "20\n"
     ]
    }
   ],
   "source": [
    "movie = \"robert pattinson as batman\"\n",
    "\n",
    "print(movie.find(\"batman\"))"
   ]
  },
  {
   "cell_type": "code",
   "execution_count": 14,
   "id": "e222f1fa",
   "metadata": {},
   "outputs": [
    {
     "name": "stdout",
     "output_type": "stream",
     "text": [
      "-1\n"
     ]
    }
   ],
   "source": [
    "print(movie.find(\"batman\",0,10))"
   ]
  },
  {
   "cell_type": "code",
   "execution_count": 15,
   "id": "14e2f345",
   "metadata": {},
   "outputs": [
    {
     "name": "stdout",
     "output_type": "stream",
     "text": [
      "hello\n"
     ]
    }
   ],
   "source": [
    "mov = \"hella\"\n",
    "\n",
    "print(mov.replace(\"hella\",\"hello\"))"
   ]
  },
  {
   "cell_type": "markdown",
   "id": "73050e80",
   "metadata": {},
   "source": [
    "### 2 - Formatting Strings"
   ]
  },
  {
   "cell_type": "code",
   "execution_count": 16,
   "id": "b165fd9f",
   "metadata": {},
   "outputs": [],
   "source": [
    "wikipedia = \"In computer science, artificial intelligence (AI), sometimes called machine intelligence, is intelligence demonstrated by machines, in contrast to the natural intelligence displayed by humans and animals\""
   ]
  },
  {
   "cell_type": "code",
   "execution_count": 17,
   "id": "0b8893cb",
   "metadata": {},
   "outputs": [
    {
     "name": "stdout",
     "output_type": "stream",
     "text": [
      "computer science\n",
      "artificial intelligence\n"
     ]
    }
   ],
   "source": [
    "# Assign the substrings to the variables\n",
    "first_pos = wikipedia[3:19].lower()\n",
    "second_pos = wikipedia[21:44].lower()\n",
    "\n",
    "print(first_pos)\n",
    "print(second_pos)"
   ]
  },
  {
   "cell_type": "code",
   "execution_count": 19,
   "id": "1d862bb9",
   "metadata": {},
   "outputs": [
    {
     "name": "stdout",
     "output_type": "stream",
     "text": [
      "The tool computer science is used in artificial intelligence\n",
      "The tool artificial intelligence is used in computer science\n"
     ]
    }
   ],
   "source": [
    "my_list = []\n",
    "\n",
    "my_list.append(\"The tool {} is used in {}\")\n",
    "\n",
    "my_list.append(\"The tool {1} is used in {0}\")\n",
    "\n",
    "for my_string in my_list:\n",
    "  \tprint(my_string.format(first_pos, second_pos))"
   ]
  },
  {
   "cell_type": "code",
   "execution_count": 20,
   "id": "7054aa81",
   "metadata": {},
   "outputs": [
    {
     "name": "stdout",
     "output_type": "stream",
     "text": [
      "If you are interested in artificial intelligence, you can take the course related to neural networks\n"
     ]
    }
   ],
   "source": [
    "courses = ['artificial intelligence', 'neural networks']\n",
    "\n",
    "# Create a dictionary\n",
    "plan = {\n",
    "  \t\t\"field\": courses[0],\n",
    "        \"tool\": courses[1]\n",
    "        }\n",
    "\n",
    "# Complete the placeholders accessing elements of field and tool keys in the data dictionary\n",
    "my_message = \"If you are interested in {data[field]}, you can take the course related to {data[tool]}\"\n",
    "\n",
    "# Use the plan dictionary to replace placeholders\n",
    "print(my_message.format(data=plan))"
   ]
  },
  {
   "cell_type": "code",
   "execution_count": 21,
   "id": "0833608b",
   "metadata": {},
   "outputs": [
    {
     "name": "stdout",
     "output_type": "stream",
     "text": [
      "Good morning. Today is March 21, 2022. It's 13:34 ... time to work!\n"
     ]
    }
   ],
   "source": [
    "# Import datetime \n",
    "from datetime import datetime\n",
    "\n",
    "# Assign date to get_date\n",
    "get_date = datetime.now()\n",
    "\n",
    "# Add named placeholders with format specifiers\n",
    "message = \"Good morning. Today is {today:%B %d, %Y}. It's {today:%H:%M} ... time to work!\"\n",
    "\n",
    "# Use the format method replacing the placeholder with get_date\n",
    "print(message.format(today=get_date))"
   ]
  },
  {
   "cell_type": "code",
   "execution_count": 25,
   "id": "e3f0ac8c",
   "metadata": {},
   "outputs": [
    {
     "name": "stdout",
     "output_type": "stream",
     "text": [
      "Data science is considered 'sexiest job' in the 21st century\n"
     ]
    }
   ],
   "source": [
    "field1, field2, field3 = \"sexiest job\", \"data is produced daily\", \"individuals\"\n",
    "fact1, fact2, fact3, fact4 = 21, 2500000000000000000, 72.41415415151, 1.09\n",
    "\n",
    "print(f\"Data science is considered {field1!r} in the {fact1:d}st century\")"
   ]
  },
  {
   "cell_type": "code",
   "execution_count": 23,
   "id": "9ce054d3",
   "metadata": {},
   "outputs": [
    {
     "name": "stdout",
     "output_type": "stream",
     "text": [
      "About 2.500000e+18 of data is produced daily in the world\n"
     ]
    }
   ],
   "source": [
    "print(f\"About {fact2:e} of {field2} in the world\")"
   ]
  },
  {
   "cell_type": "code",
   "execution_count": 26,
   "id": "4d576a7c",
   "metadata": {},
   "outputs": [
    {
     "name": "stdout",
     "output_type": "stream",
     "text": [
      "individuals create around 72.41% of the data but only 1.1% is analyzed\n"
     ]
    }
   ],
   "source": [
    "print(f\"{field3} create around {fact3:.2f}% of the data but only {fact4:.1f}% is analyzed\")"
   ]
  },
  {
   "cell_type": "code",
   "execution_count": 27,
   "id": "adb4e9a3",
   "metadata": {},
   "outputs": [
    {
     "name": "stdout",
     "output_type": "stream",
     "text": [
      "120 tweets were downloaded in 7 minutes indicating a speed of 17.1 tweets per min\n"
     ]
    }
   ],
   "source": [
    "number1 = 120\n",
    "number2 = 7\n",
    "string1 = \"httpswww.datacamp.com\"\n",
    "list_links = ['www.news.com', 'www.google.com', 'www.yahoo.com', 'www.bbc.com', 'www.msn.com', 'www.facebook.com', 'www.news.google.com']\n",
    "\n",
    "print(f\"{number1} tweets were downloaded in {number2} minutes indicating a speed of {number1/number2:.1f} tweets per min\")"
   ]
  },
  {
   "cell_type": "code",
   "execution_count": 28,
   "id": "97534832",
   "metadata": {},
   "outputs": [
    {
     "name": "stdout",
     "output_type": "stream",
     "text": [
      "www.datacamp.com\n"
     ]
    }
   ],
   "source": [
    "print(f\"{string1.replace('https', '')}\")"
   ]
  },
  {
   "cell_type": "code",
   "execution_count": 30,
   "id": "89c70f98",
   "metadata": {},
   "outputs": [
    {
     "name": "stdout",
     "output_type": "stream",
     "text": [
      "Only 5.83% of the posts contain links\n"
     ]
    }
   ],
   "source": [
    "print(f\"Only {(len(list_links)*100/120):.2f}% of the posts contain links\")"
   ]
  },
  {
   "cell_type": "code",
   "execution_count": 32,
   "id": "6bbe0356",
   "metadata": {},
   "outputs": [
    {
     "name": "stdout",
     "output_type": "stream",
     "text": [
      "The price for a house in the east neighborhood was $1232443 in 04-20-2007\n"
     ]
    }
   ],
   "source": [
    "east = {'date': datetime(2007, 4, 20, 0, 0), 'price': 1232443}\n",
    "west = {'date': datetime(2006, 5, 26, 0, 0), 'price': 1432673}\n",
    "\n",
    "print(f\"The price for a house in the east neighborhood was ${east['price']} in {east['date']:%m-%d-%Y}\")"
   ]
  },
  {
   "cell_type": "code",
   "execution_count": 33,
   "id": "db8f012a",
   "metadata": {},
   "outputs": [
    {
     "name": "stdout",
     "output_type": "stream",
     "text": [
      "The price for a house in the west neighborhood was $1432673 in 05-26-2006.\n"
     ]
    }
   ],
   "source": [
    "print(f\"The price for a house in the west neighborhood was ${west['price']} in {west['date']:%m-%d-%Y}.\")"
   ]
  },
  {
   "cell_type": "code",
   "execution_count": 34,
   "id": "52b8f4d9",
   "metadata": {},
   "outputs": [],
   "source": [
    "tool1, tool2, tool3 = \"Natural Language Toolkit\",\"TextBlob\",\"Gensim\"\n",
    "\n",
    "description1 = \"suite of libraries and programs for symbolic and statistical natural language processing (NLP) for English written in the Python programming language. It was developed by Steven Bird and Edward Loper in the Department of Computer and Information Science at the University of Pennsylvania.\"\n",
    "description2 = \"Python library for processing textual data. It provides a simple API for diving into common natural language processing tasks such as part-of-speech tagging, noun phrase extraction, sentiment analysis, classification, translation, and more.\"\n",
    "description3 = \"robust open-source vector space modeling and topic modeling toolkit implemented in Python. It uses NumPy, SciPy and optionally Cython for performance. Gensim is specifically designed to handle large text collections, using data streaming and efficient incremental algorithms, which differentiates it from most other scientific software packages that only target batch and in-memory processing.\""
   ]
  },
  {
   "cell_type": "code",
   "execution_count": 36,
   "id": "6c2a80ef",
   "metadata": {},
   "outputs": [
    {
     "name": "stdout",
     "output_type": "stream",
     "text": [
      "Natural Language Toolkit is a suite of libraries and programs for symbolic and statistical natural language processing (NLP) for English written in the Python programming language. It was developed by Steven Bird and Edward Loper in the Department of Computer and Information Science at the University of Pennsylvania.\n",
      "---------------\n",
      "TextBlob is a Python library for processing textual data. It provides a simple API for diving into common natural language processing tasks such as part-of-speech tagging, noun phrase extraction, sentiment analysis, classification, translation, and more.\n",
      "---------------\n",
      "Gensim is a robust open-source vector space modeling and topic modeling toolkit implemented in Python. It uses NumPy, SciPy and optionally Cython for performance. Gensim is specifically designed to handle large text collections, using data streaming and efficient incremental algorithms, which differentiates it from most other scientific software packages that only target batch and in-memory processing.\n"
     ]
    }
   ],
   "source": [
    "# Import Template\n",
    "from string import Template\n",
    "\n",
    "# Create a template\n",
    "wikipedia = Template(\"$tool is a $description\")\n",
    "\n",
    "# Substitute variables in template\n",
    "print(wikipedia.substitute(tool=tool1, description=description1))\n",
    "print('-'*15)\n",
    "print(wikipedia.substitute(tool=tool2, description=description2))\n",
    "print('-'*15)\n",
    "print(wikipedia.substitute(tool=tool3, description=description3))"
   ]
  },
  {
   "cell_type": "code",
   "execution_count": 37,
   "id": "38604a74",
   "metadata": {},
   "outputs": [],
   "source": [
    "tools = ['Natural Language Toolkit', '20', 'month']"
   ]
  },
  {
   "cell_type": "code",
   "execution_count": 38,
   "id": "0bec8f0b",
   "metadata": {},
   "outputs": [
    {
     "name": "stdout",
     "output_type": "stream",
     "text": [
      "We are offering a 3-month beginner course on Natural Language Toolkit just for $ 20 monthly\n"
     ]
    }
   ],
   "source": [
    "# Import template\n",
    "from string import Template\n",
    "\n",
    "# Select variables\n",
    "our_tool = tools[0]\n",
    "our_fee = tools[1]\n",
    "our_pay = tools[2]\n",
    "\n",
    "# Create template\n",
    "course = Template(\"We are offering a 3-month beginner course on $tool just for $$ $fee ${pay}ly\")\n",
    "\n",
    "# Substitute identifiers with three variables\n",
    "print(course.substitute(tool=our_tool, fee=our_fee, pay=our_pay))"
   ]
  },
  {
   "cell_type": "code",
   "execution_count": 41,
   "id": "21c540c7",
   "metadata": {},
   "outputs": [
    {
     "name": "stdout",
     "output_type": "stream",
     "text": [
      "Check your answer 1: I really like the app. But there are some features that can be improved, and your answer 2: $answer2\n"
     ]
    }
   ],
   "source": [
    "answers = {'answer1': 'I really like the app. But there are some features that can be improved'}\n",
    "\n",
    "the_answers = Template(\"Check your answer 1: $answer1, and your answer 2: $answer2\")\n",
    "\n",
    "try:\n",
    "    print(the_answers.safe_substitute(answers))\n",
    "except KeyError:\n",
    "    print(\"Missing information\")"
   ]
  }
 ],
 "metadata": {
  "kernelspec": {
   "display_name": "Python 3 (ipykernel)",
   "language": "python",
   "name": "python3"
  },
  "language_info": {
   "codemirror_mode": {
    "name": "ipython",
    "version": 3
   },
   "file_extension": ".py",
   "mimetype": "text/x-python",
   "name": "python",
   "nbconvert_exporter": "python",
   "pygments_lexer": "ipython3",
   "version": "3.9.7"
  }
 },
 "nbformat": 4,
 "nbformat_minor": 5
}
