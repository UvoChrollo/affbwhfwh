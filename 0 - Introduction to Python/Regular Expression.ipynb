{
 "cells": [
  {
   "cell_type": "markdown",
   "id": "5661be04",
   "metadata": {},
   "source": [
    "<a href=\"#\" style=\"color:black; text-decoration:none\">Python String Formatting</a>"
   ]
  },
  {
   "cell_type": "markdown",
   "id": "583dc8bf",
   "metadata": {},
   "source": [
    "### 1 - Regular Expressions for Pattern Matching"
   ]
  },
  {
   "cell_type": "markdown",
   "id": "8eaa523b",
   "metadata": {},
   "source": [
    "### 2 - Advanced Regular Expression Concepts"
   ]
  }
 ],
 "metadata": {
  "kernelspec": {
   "display_name": "Python 3 (ipykernel)",
   "language": "python",
   "name": "python3"
  },
  "language_info": {
   "codemirror_mode": {
    "name": "ipython",
    "version": 3
   },
   "file_extension": ".py",
   "mimetype": "text/x-python",
   "name": "python",
   "nbconvert_exporter": "python",
   "pygments_lexer": "ipython3",
   "version": "3.9.7"
  }
 },
 "nbformat": 4,
 "nbformat_minor": 5
}
